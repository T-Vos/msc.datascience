{
 "cells": [
  {
   "cell_type": "code",
   "execution_count": 1,
   "metadata": {},
   "outputs": [],
   "source": [
    "import pandas as pd\n",
    "import numpy as np\n",
    "import matplotlib.pyplot as plt"
   ]
  },
  {
   "cell_type": "code",
   "execution_count": 2,
   "metadata": {},
   "outputs": [],
   "source": [
    "dataset = pd.read_csv('../EDA/numData.csv')\n",
    "Y = pd.read_csv('../EDA/y.csv')"
   ]
  },
  {
   "cell_type": "code",
   "execution_count": 3,
   "metadata": {},
   "outputs": [],
   "source": [
    "dataset = dataset.merge(Y, how='left', on=[\"country\",\"year\"])"
   ]
  },
  {
   "cell_type": "code",
   "execution_count": 4,
   "metadata": {},
   "outputs": [],
   "source": [
    "X_AfterColdWar = dataset[dataset[\"year\"] >= 1990]\n",
    "X_BeforeColdWar = dataset[dataset[\"year\"] < 1990]"
   ]
  },
  {
   "cell_type": "code",
   "execution_count": 5,
   "metadata": {},
   "outputs": [],
   "source": [
    "X_without = dataset.drop(columns=[\"year\",\"country\"], axis=0)\n",
    "X_AfterColdWar_without = X_AfterColdWar.drop(columns=[\"year\",\"country\"], axis=0)\n",
    "X_BeforeColdWar_without = X_BeforeColdWar.drop(columns=[\"year\",\"country\"], axis=0)"
   ]
  },
  {
   "cell_type": "code",
   "execution_count": 6,
   "metadata": {},
   "outputs": [],
   "source": [
    "bigMissing = X_without.isna().sum()[(X_without.isna().sum() / X_without.shape[0]) > 0.8].keys()\n",
    "X_without = X_without.drop(columns=bigMissing, axis=0)"
   ]
  },
  {
   "cell_type": "code",
   "execution_count": 7,
   "metadata": {},
   "outputs": [],
   "source": [
    "X_without = X_without.replace(np.inf, 0)\n",
    "X_without = X_without.replace(-np.inf, 0)\n",
    "X_without = X_without.fillna(0)\n",
    "\n",
    "X_BeforeColdWar_without = X_BeforeColdWar_without.replace(np.inf, 0)\n",
    "X_BeforeColdWar_without = X_BeforeColdWar_without.replace(-np.inf, 0)\n",
    "X_BeforeColdWar_without = X_BeforeColdWar_without.fillna(0)\n",
    "\n",
    "X_AfterColdWar_without = X_AfterColdWar_without.replace(np.inf, 0)\n",
    "X_AfterColdWar_without = X_AfterColdWar_without.replace(-np.inf, 0)\n",
    "X_AfterColdWar_without = X_AfterColdWar_without.fillna(0)"
   ]
  },
  {
   "cell_type": "code",
   "execution_count": 8,
   "metadata": {},
   "outputs": [],
   "source": [
    "from sklearn.preprocessing import StandardScaler\n",
    "from sklearn.decomposition import PCA\n",
    "\n",
    "X = StandardScaler().fit_transform(X_without)\n",
    "X_aCW = StandardScaler().fit_transform(X_AfterColdWar_without)\n",
    "X_bCW = StandardScaler().fit_transform(X_BeforeColdWar_without)\n",
    "\n",
    "pca = PCA()\n",
    "principalComponents = pca.fit_transform(X)\n",
    "\n",
    "principalComponents_bCW = pca.fit_transform(X_bCW)\n",
    "principalComponents_aCW = pca.fit_transform(X_aCW)\n",
    "\n",
    "PCA_components = pd.DataFrame(principalComponents)\n",
    "PCA_components_bCW = pd.DataFrame(principalComponents_bCW)\n",
    "PCA_components_aCW = pd.DataFrame(principalComponents_aCW)"
   ]
  },
  {
   "cell_type": "code",
   "execution_count": 9,
   "metadata": {},
   "outputs": [],
   "source": [
    "# from sklearn import mixture\n",
    "\n",
    "# components = 9\n",
    "# features = 5\n",
    "\n",
    "# gmm = mixture.GaussianMixture(n_components=components, covariance_type='full')\n",
    "# labels = gmm.fit_predict(PCA_components_bCW.iloc[:,:features])\n",
    "\n",
    "# X_BeforeColdWar_without[\"gmmLabels-\"+str(components)+str(features)] = labels\n",
    "# X_AfterColdWar[\"gmmLabels-\"+str(components)+str(features)] = labels"
   ]
  },
  {
   "cell_type": "code",
   "execution_count": 10,
   "metadata": {},
   "outputs": [],
   "source": [
    "from sklearn import mixture\n",
    "\n",
    "components = 9\n",
    "features = 5\n",
    "\n",
    "gmm = mixture.GaussianMixture(n_components=components, covariance_type='full')\n",
    "labels = gmm.fit_predict(PCA_components.iloc[:,:features])\n",
    "\n",
    "X_without[\"gmmLabels-\"+str(components)+str(features)] = labels\n",
    "dataset[\"gmmLabels-\"+str(components)+str(features)] = labels\n"
   ]
  },
  {
   "cell_type": "code",
   "execution_count": 11,
   "metadata": {},
   "outputs": [],
   "source": [
    "from sklearn.cluster import KMeans\n",
    "\n",
    "components = 9\n",
    "features = 5\n",
    "\n",
    "gmm = KMeans(n_clusters=components)\n",
    "labelsKmm = gmm.fit_predict(PCA_components.iloc[:,:features])\n",
    "\n",
    "X_without[\"kmmLabels-\"+str(components)+str(features)] = labelsKmm\n",
    "dataset[\"kmmLabels-\"+str(components)+str(features)] = labelsKmm"
   ]
  },
  {
   "cell_type": "code",
   "execution_count": 12,
   "metadata": {},
   "outputs": [],
   "source": [
    "from scipy.cluster.hierarchy import linkage, fcluster, dendrogram\n",
    "import scipy.cluster.hierarchy as shc\n",
    "\n",
    "components = 6\n",
    "features = 5\n",
    "\n",
    "cluster = shc.linkage(PCA_components.iloc[:,:features], method='complete')\n",
    "cluster_array = fcluster(cluster, 15, criterion='maxclust')\n",
    "\n",
    "X_without[\"LinkLabels-\"+str(components)+str(features)] = cluster_array\n",
    "dataset[\"LinkLabels-\"+str(components)+str(features)] = cluster_array\n"
   ]
  },
  {
   "cell_type": "code",
   "execution_count": null,
   "metadata": {},
   "outputs": [],
   "source": [
    "dataset.to_csv(\"cheat.csv\")"
   ]
  },
  {
   "cell_type": "code",
   "execution_count": null,
   "metadata": {},
   "outputs": [],
   "source": [
    "checkingMatrix = dataset.iloc[:,-12:]"
   ]
  },
  {
   "cell_type": "code",
   "execution_count": null,
   "metadata": {},
   "outputs": [],
   "source": [
    "checkingMatrix"
   ]
  },
  {
   "cell_type": "code",
   "execution_count": null,
   "metadata": {},
   "outputs": [],
   "source": [
    "import sklearn.metrics as skMetrics\n",
    "\n",
    "labels = checkingMatrix.iloc[:,-3:]\n",
    "\n",
    "zerosArray = np.zeros((3,3))\n",
    "\n",
    "\n",
    "for x in range(3):\n",
    "    for y in range(3):\n",
    "        randIndex = skMetrics.adjusted_rand_score(labels.iloc[:,x],labels.iloc[:,y])\n",
    "        zerosArray[x][y] = randIndex\n",
    "\n",
    "np.savetxt(\"rand.csv\", zerosArray, delimiter=\",\", fmt='%s')"
   ]
  },
  {
   "cell_type": "code",
   "execution_count": null,
   "metadata": {},
   "outputs": [],
   "source": [
    "import scipy.stats as scStat\n",
    "\n",
    "setToCompare = \"gmmLabels-95\"\n",
    "clusters = len(checkingMatrix[setToCompare].unique())\n",
    "democracyScore = \"v2x_libdem\"\n",
    "\n",
    "clusters = len(checkingMatrix[setToCompare].unique())\n",
    "\n",
    "bars = [np.mean(checkingMatrix[checkingMatrix[setToCompare]==i][democracyScore].dropna().values) for i in range(clusters)]\n",
    "plt.bar(range(clusters),bars)\n",
    "plt.xticks(range(clusters))\n",
    "plt.show()\n",
    "\n",
    "\n",
    "# zeroArray = np.zeros((clusters+1,clusters+1))\n",
    "zeroArray = [[0]*(clusters+1)]*(clusters+1)\n",
    "\n",
    "barlett = [checkingMatrix[checkingMatrix[setToCompare]==i][democracyScore].dropna().values for i in range(clusters)]\n",
    "barlettTest = scStat.levene(*barlett)\n",
    "\n",
    "print(barlettTest)\n",
    "\n",
    "for i in range(clusters):\n",
    "    # print(len(checkingMatrix[checkingMatrix[setToCompare]==i][\"v2x_partipdem\"]))\n",
    "    compareSet = checkingMatrix[checkingMatrix[setToCompare]==i][democracyScore].dropna().values\n",
    "    if len(compareSet) > 8:\n",
    "        normality_v2X_PartiDem = scStat.normaltest(compareSet)\n",
    "        print(normality_v2X_PartiDem, barlettTest)\n",
    "        for z in range(clusters):\n",
    "            tTest = 0\n",
    "            if i != z:\n",
    "                compareSet2 = checkingMatrix[checkingMatrix[setToCompare]==z][democracyScore].dropna().values\n",
    "                levene = scStat.levene(compareSet,compareSet2)\n",
    "                print(levene)\n",
    "\n",
    "                if len(compareSet2) > 8:\n",
    "                    tTest = scStat.ttest_ind(compareSet,compareSet2)\n",
    "                    zeroArray[i][z] = str(tTest[1])+ \";\" + str(levene[1])\n",
    "                    print(\"Compare \"+ democracyScore +\", of cluster\", i, \" against:\", z, \":\", tTest)\n",
    "                    print(\"\")\n",
    "            else:\n",
    "                zeroArray[i][z] = 1\n",
    "    print(\"\")\n",
    "\n",
    "save = np.array(zeroArray)\n",
    "np.savetxt(\"foo.csv\", save, delimiter=\",\", fmt='%s')"
   ]
  }
 ],
 "metadata": {
  "interpreter": {
   "hash": "6744874b6b7d4c11632f5c57904f17b16032f5dfc2e35ec68085b9c698263a2f"
  },
  "kernelspec": {
   "display_name": "Python 3.8.12 ('thesisProject')",
   "language": "python",
   "name": "python3"
  },
  "language_info": {
   "codemirror_mode": {
    "name": "ipython",
    "version": 3
   },
   "file_extension": ".py",
   "mimetype": "text/x-python",
   "name": "python",
   "nbconvert_exporter": "python",
   "pygments_lexer": "ipython3",
   "version": "3.8.12"
  },
  "orig_nbformat": 4
 },
 "nbformat": 4,
 "nbformat_minor": 2
}
