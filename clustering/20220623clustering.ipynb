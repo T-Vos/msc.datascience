{
 "cells": [
  {
   "cell_type": "code",
   "execution_count": 2,
   "metadata": {},
   "outputs": [],
   "source": [
    "import pandas as pd\n",
    "import numpy as np\n",
    "import matplotlib.pyplot as plt"
   ]
  },
  {
   "cell_type": "code",
   "execution_count": 3,
   "metadata": {},
   "outputs": [],
   "source": [
    "dataset = pd.read_csv('../EDA/data.csv')\n",
    "Y = pd.read_csv('../EDA/y.csv')"
   ]
  },
  {
   "cell_type": "code",
   "execution_count": 4,
   "metadata": {},
   "outputs": [],
   "source": [
    "dataset = dataset.merge(Y, how='left', on=[\"year\",\"country\"])"
   ]
  },
  {
   "cell_type": "code",
   "execution_count": 8,
   "metadata": {},
   "outputs": [],
   "source": [
    "dataset = dataset.dropna(axis=0, how='all')"
   ]
  },
  {
   "cell_type": "code",
   "execution_count": 14,
   "metadata": {},
   "outputs": [],
   "source": [
    "cut = pd.cut(dataset[\"GDP-PerCapitainterPolation\"], 11)"
   ]
  },
  {
   "cell_type": "code",
   "execution_count": 16,
   "metadata": {},
   "outputs": [],
   "source": [
    "dataset[\"cut\"] = cut"
   ]
  },
  {
   "cell_type": "code",
   "execution_count": 24,
   "metadata": {},
   "outputs": [],
   "source": [
    "checkingMatrix = dataset.iloc[:,-10:]"
   ]
  },
  {
   "cell_type": "code",
   "execution_count": 31,
   "metadata": {},
   "outputs": [
    {
     "data": {
      "text/plain": [
       "[NaN, (-131.524, 17249.708], (17249.708, 34441.827], (34441.827, 51633.945], (51633.945, 68826.064], ..., (103210.302, 120402.421], (120402.421, 137594.539], (154786.658, 171978.777], (137594.539, 154786.658], (171978.777, 189170.896]]\n",
       "Length: 12\n",
       "Categories (11, interval[float64]): [(-131.524, 17249.708] < (17249.708, 34441.827] < (34441.827, 51633.945] < (51633.945, 68826.064] ... (120402.421, 137594.539] < (137594.539, 154786.658] < (154786.658, 171978.777] < (171978.777, 189170.896]]"
      ]
     },
     "execution_count": 31,
     "metadata": {},
     "output_type": "execute_result"
    }
   ],
   "source": []
  },
  {
   "cell_type": "code",
   "execution_count": 35,
   "metadata": {},
   "outputs": [
    {
     "data": {
      "text/plain": [
       "3625       NaN\n",
       "3896       NaN\n",
       "4024     0.049\n",
       "4167       NaN\n",
       "4295     0.047\n",
       "         ...  \n",
       "16689      NaN\n",
       "16705      NaN\n",
       "16706      NaN\n",
       "16712      NaN\n",
       "16734      NaN\n",
       "Name: v2x_libdem, Length: 929, dtype: float64"
      ]
     },
     "execution_count": 35,
     "metadata": {},
     "output_type": "execute_result"
    }
   ],
   "source": [
    "unique =checkingMatrix[\"cut\"].unique()\n",
    "checkingMatrix[checkingMatrix[\"cut\"]==unique[2]][\"v2x_libdem\"]"
   ]
  },
  {
   "cell_type": "code",
   "execution_count": 36,
   "metadata": {},
   "outputs": [
    {
     "name": "stderr",
     "output_type": "stream",
     "text": [
      "c:\\Users\\Thoma\\.conda\\envs\\thesisProject\\lib\\site-packages\\numpy\\core\\fromnumeric.py:3372: RuntimeWarning: Mean of empty slice.\n",
      "  return _methods._mean(a, axis=axis, dtype=dtype,\n",
      "c:\\Users\\Thoma\\.conda\\envs\\thesisProject\\lib\\site-packages\\numpy\\core\\_methods.py:170: RuntimeWarning: invalid value encountered in double_scalars\n",
      "  ret = ret.dtype.type(ret / rcount)\n",
      "c:\\Users\\Thoma\\.conda\\envs\\thesisProject\\lib\\site-packages\\numpy\\core\\fromnumeric.py:3372: RuntimeWarning: Mean of empty slice.\n",
      "  return _methods._mean(a, axis=axis, dtype=dtype,\n",
      "c:\\Users\\Thoma\\.conda\\envs\\thesisProject\\lib\\site-packages\\numpy\\core\\_methods.py:170: RuntimeWarning: invalid value encountered in double_scalars\n",
      "  ret = ret.dtype.type(ret / rcount)\n",
      "c:\\Users\\Thoma\\.conda\\envs\\thesisProject\\lib\\site-packages\\numpy\\core\\fromnumeric.py:3372: RuntimeWarning: Mean of empty slice.\n",
      "  return _methods._mean(a, axis=axis, dtype=dtype,\n",
      "c:\\Users\\Thoma\\.conda\\envs\\thesisProject\\lib\\site-packages\\numpy\\core\\_methods.py:170: RuntimeWarning: invalid value encountered in double_scalars\n",
      "  ret = ret.dtype.type(ret / rcount)\n",
      "c:\\Users\\Thoma\\.conda\\envs\\thesisProject\\lib\\site-packages\\numpy\\core\\fromnumeric.py:3372: RuntimeWarning: Mean of empty slice.\n",
      "  return _methods._mean(a, axis=axis, dtype=dtype,\n",
      "c:\\Users\\Thoma\\.conda\\envs\\thesisProject\\lib\\site-packages\\numpy\\core\\_methods.py:170: RuntimeWarning: invalid value encountered in double_scalars\n",
      "  ret = ret.dtype.type(ret / rcount)\n",
      "c:\\Users\\Thoma\\.conda\\envs\\thesisProject\\lib\\site-packages\\numpy\\core\\fromnumeric.py:3372: RuntimeWarning: Mean of empty slice.\n",
      "  return _methods._mean(a, axis=axis, dtype=dtype,\n",
      "c:\\Users\\Thoma\\.conda\\envs\\thesisProject\\lib\\site-packages\\numpy\\core\\_methods.py:170: RuntimeWarning: invalid value encountered in double_scalars\n",
      "  ret = ret.dtype.type(ret / rcount)\n"
     ]
    },
    {
     "data": {
      "image/png": "[encoded data removed]",
      "text/plain": [
       "<Figure size 432x288 with 1 Axes>"
      ]
     },
     "metadata": {
      "needs_background": "light"
     },
     "output_type": "display_data"
    }
   ],
   "source": [
    "import scipy.stats as scStat\n",
    "\n",
    "setToCompare = \"cut\"\n",
    "unique =checkingMatrix[\"cut\"].unique()\n",
    "clusters = len(unique)\n",
    "democracyScore = \"v2x_libdem\"\n",
    "\n",
    "bars = [np.mean(checkingMatrix[checkingMatrix[setToCompare]==unique[i]][democracyScore].dropna().values) for i in range(clusters)]\n",
    "plt.bar(range(clusters),bars)\n",
    "plt.xticks(range(clusters))\n",
    "plt.show()\n",
    "\n",
    "\n",
    "# # zeroArray = np.zeros((clusters+1,clusters+1))\n",
    "# zeroArray = [[0]*(clusters+1)]*(clusters+1)\n",
    "\n",
    "# barlett = [checkingMatrix[checkingMatrix[setToCompare]==i][democracyScore].dropna().values for i in range(clusters)]\n",
    "# barlettTest = scStat.levene(*barlett)\n",
    "\n",
    "# print(barlettTest)\n",
    "\n",
    "# for i in range(clusters):\n",
    "#     # print(len(checkingMatrix[checkingMatrix[setToCompare]==i][\"v2x_partipdem\"]))\n",
    "#     compareSet = checkingMatrix[checkingMatrix[setToCompare]==i][democracyScore].dropna().values\n",
    "#     if len(compareSet) > 8:\n",
    "#         normality_v2X_PartiDem = scStat.normaltest(compareSet)\n",
    "#         print(normality_v2X_PartiDem, barlettTest)\n",
    "#         for z in range(clusters):\n",
    "#             tTest = 0\n",
    "#             if i != z:\n",
    "#                 compareSet2 = checkingMatrix[checkingMatrix[setToCompare]==z][democracyScore].dropna().values\n",
    "#                 levene = scStat.levene(compareSet,compareSet2)\n",
    "#                 print(levene)\n",
    "\n",
    "#                 if len(compareSet2) > 8:\n",
    "#                     tTest = scStat.ttest_ind(compareSet,compareSet2)\n",
    "#                     zeroArray[i][z] = (tTest[1], levene[1])\n",
    "#                     print(\"Compare \"+ democracyScore +\", of cluster\", i, \" against:\", z, \":\", tTest)\n",
    "#                     print(\"\")\n",
    "#             else:\n",
    "#                 zeroArray[i][z] = 1\n",
    "#     print(\"\")\n",
    "\n",
    "# zeroArray"
   ]
  }
 ],
 "metadata": {
  "interpreter": {
   "hash": "6744874b6b7d4c11632f5c57904f17b16032f5dfc2e35ec68085b9c698263a2f"
  },
  "kernelspec": {
   "display_name": "Python 3.8.12 ('thesisProject')",
   "language": "python",
   "name": "python3"
  },
  "language_info": {
   "codemirror_mode": {
    "name": "ipython",
    "version": 3
   },
   "file_extension": ".py",
   "mimetype": "text/x-python",
   "name": "python",
   "nbconvert_exporter": "python",
   "pygments_lexer": "ipython3",
   "version": "3.8.12"
  },
  "orig_nbformat": 4
 },
 "nbformat": 4,
 "nbformat_minor": 2
}
