{
 "cells": [
  {
   "cell_type": "code",
   "execution_count": 1,
   "metadata": {},
   "outputs": [],
   "source": [
    "import pandas as pd\n",
    "import numpy as np\n",
    "import matplotlib.pyplot as plt"
   ]
  },
  {
   "cell_type": "code",
   "execution_count": 2,
   "metadata": {},
   "outputs": [],
   "source": [
    "dataset = pd.read_csv('../EDA/data.csv')\n",
    "Y = pd.read_csv('../EDA/y.csv')"
   ]
  },
  {
   "cell_type": "code",
   "execution_count": 69,
   "metadata": {},
   "outputs": [
    {
     "data": {
      "text/plain": [
       "(16747, 122)"
      ]
     },
     "execution_count": 69,
     "metadata": {},
     "output_type": "execute_result"
    }
   ],
   "source": [
    "dataset.shape"
   ]
  },
  {
   "cell_type": "code",
   "execution_count": 3,
   "metadata": {},
   "outputs": [],
   "source": [
    "def drop_non_year_column(titles):\n",
    "    # Get Years in dataset\n",
    "    drops = []\n",
    "    for title in titles:\n",
    "        # if not title.endswith(\"interPolation\") and not column.endswith('Dummy') : drops.append(title)\n",
    "        if not title.endswith(\"interPolation\") : drops.append(title)\n",
    "    return drops"
   ]
  },
  {
   "cell_type": "code",
   "execution_count": 4,
   "metadata": {},
   "outputs": [],
   "source": [
    "dataset = dataset.set_index([\"country\",\"year\"]).dropna(axis=0, how='all')"
   ]
  },
  {
   "cell_type": "code",
   "execution_count": 7,
   "metadata": {},
   "outputs": [],
   "source": [
    "X_without = dataset.drop(columns=[\"noTaxDummy\",\"noGDPDummy\"])"
   ]
  },
  {
   "cell_type": "code",
   "execution_count": 8,
   "metadata": {},
   "outputs": [],
   "source": [
    "X_without = X_without.drop(columns=drop_non_year_column(X_without.columns), axis=0)"
   ]
  },
  {
   "cell_type": "code",
   "execution_count": 74,
   "metadata": {},
   "outputs": [
    {
     "data": {
      "text/plain": [
       "(16747, 96)"
      ]
     },
     "execution_count": 74,
     "metadata": {},
     "output_type": "execute_result"
    }
   ],
   "source": [
    "X_without.shape"
   ]
  },
  {
   "cell_type": "code",
   "execution_count": 73,
   "metadata": {},
   "outputs": [],
   "source": [
    "largeNan = X_without.isna().sum()[X_without.isna().sum().values > 10000].keys()\n",
    "X_without = X_without.drop(columns=largeNan, axis=0)"
   ]
  },
  {
   "cell_type": "code",
   "execution_count": 75,
   "metadata": {},
   "outputs": [],
   "source": [
    "X_without = X_without.fillna(0)"
   ]
  },
  {
   "cell_type": "code",
   "execution_count": 6,
   "metadata": {},
   "outputs": [],
   "source": [
    "X_without = dataset"
   ]
  },
  {
   "cell_type": "code",
   "execution_count": 7,
   "metadata": {},
   "outputs": [],
   "source": [
    "for column in X_without.columns:\n",
    "    if not column.endswith('Dummy') or not column.endswith('growth') or not column.endswith('PercentageGrowth'):\n",
    "        X_without[column+'-growth'] = X_without[column].rolling(window=2).apply(lambda x: x.iloc[-1] - x.iloc[0])\n",
    "        X_without[column+'-PercentageGrowth'] = X_without[column].rolling(window=2).apply(lambda x: ((x.iloc[-1] - x.iloc[0])/x.iloc[0]))"
   ]
  },
  {
   "cell_type": "code",
   "execution_count": 8,
   "metadata": {},
   "outputs": [],
   "source": [
    "X_without = X_without.fillna(0)\n",
    "X_without = X_without.replace(np.inf, 0)"
   ]
  },
  {
   "cell_type": "code",
   "execution_count": 9,
   "metadata": {},
   "outputs": [
    {
     "data": {
      "text/plain": [
       "(16747, 360)"
      ]
     },
     "execution_count": 9,
     "metadata": {},
     "output_type": "execute_result"
    }
   ],
   "source": [
    "X_without.shape"
   ]
  },
  {
   "cell_type": "code",
   "execution_count": 79,
   "metadata": {},
   "outputs": [],
   "source": [
    "cor_matrix = X_without.corr().abs()\n",
    "upper_tri = cor_matrix.where(np.triu(np.ones(cor_matrix.shape),k=1).astype(np.bool))\n",
    "to_drop = [column for column in upper_tri.columns if any(upper_tri[column] > 0.95)]\n",
    "\n",
    "X_reduced_columns = X_without.drop(columns=to_drop, axis=1)"
   ]
  },
  {
   "cell_type": "code",
   "execution_count": 83,
   "metadata": {},
   "outputs": [
    {
     "data": {
      "text/plain": [
       "(16747, 281)"
      ]
     },
     "execution_count": 83,
     "metadata": {},
     "output_type": "execute_result"
    }
   ],
   "source": [
    "X_reduced_columns.shape"
   ]
  },
  {
   "cell_type": "code",
   "execution_count": 82,
   "metadata": {},
   "outputs": [
    {
     "name": "stderr",
     "output_type": "stream",
     "text": [
      "c:\\Users\\Thoma\\.conda\\envs\\thesisProject\\lib\\site-packages\\pandas\\core\\series.py:726: RuntimeWarning: divide by zero encountered in log10\n",
      "  result = getattr(ufunc, method)(*inputs, **kwargs)\n",
      "c:\\Users\\Thoma\\.conda\\envs\\thesisProject\\lib\\site-packages\\pandas\\core\\series.py:726: RuntimeWarning: invalid value encountered in log10\n",
      "  result = getattr(ufunc, method)(*inputs, **kwargs)\n"
     ]
    }
   ],
   "source": [
    "bigNumbers = X_reduced_columns.max()[X_reduced_columns.max() > 10000000].keys()\n",
    "\n",
    "for bigColumn in bigNumbers:\n",
    "    X_reduced_columns[bigColumn+\"log\"] = np.log10(X_reduced_columns[bigColumn])\n",
    "\n",
    "# X_without = X_without.drop(columns=bigNumbers, axis=1)"
   ]
  },
  {
   "cell_type": "code",
   "execution_count": 84,
   "metadata": {},
   "outputs": [],
   "source": [
    "X_reduced_columns = X_reduced_columns.fillna(0)"
   ]
  },
  {
   "cell_type": "code",
   "execution_count": 12,
   "metadata": {},
   "outputs": [],
   "source": [
    "X_without = X_without.replace(np.inf, 0)\n",
    "X_without = X_without.replace(-np.inf, 0)"
   ]
  },
  {
   "cell_type": "code",
   "execution_count": 11,
   "metadata": {},
   "outputs": [
    {
     "ename": "NameError",
     "evalue": "name 'X_reduced_columns' is not defined",
     "output_type": "error",
     "traceback": [
      "\u001b[1;31m---------------------------------------------------------------------------\u001b[0m",
      "\u001b[1;31mNameError\u001b[0m                                 Traceback (most recent call last)",
      "\u001b[1;32m<ipython-input-11-b5003ca0fc23>\u001b[0m in \u001b[0;36m<module>\u001b[1;34m\u001b[0m\n\u001b[1;32m----> 1\u001b[1;33m \u001b[0mX_reduced_columns\u001b[0m \u001b[1;33m=\u001b[0m \u001b[0mX_reduced_columns\u001b[0m\u001b[1;33m.\u001b[0m\u001b[0mreplace\u001b[0m\u001b[1;33m(\u001b[0m\u001b[0mnp\u001b[0m\u001b[1;33m.\u001b[0m\u001b[0minf\u001b[0m\u001b[1;33m,\u001b[0m \u001b[1;36m0\u001b[0m\u001b[1;33m)\u001b[0m\u001b[1;33m\u001b[0m\u001b[1;33m\u001b[0m\u001b[0m\n\u001b[0m\u001b[0;32m      2\u001b[0m \u001b[0mX_reduced_columns\u001b[0m \u001b[1;33m=\u001b[0m \u001b[0mX_reduced_columns\u001b[0m\u001b[1;33m.\u001b[0m\u001b[0mreplace\u001b[0m\u001b[1;33m(\u001b[0m\u001b[1;33m-\u001b[0m\u001b[0mnp\u001b[0m\u001b[1;33m.\u001b[0m\u001b[0minf\u001b[0m\u001b[1;33m,\u001b[0m \u001b[1;36m0\u001b[0m\u001b[1;33m)\u001b[0m\u001b[1;33m\u001b[0m\u001b[1;33m\u001b[0m\u001b[0m\n",
      "\u001b[1;31mNameError\u001b[0m: name 'X_reduced_columns' is not defined"
     ]
    }
   ],
   "source": [
    "X_reduced_columns = X_reduced_columns.replace(np.inf, 0)\n",
    "X_reduced_columns = X_reduced_columns.replace(-np.inf, 0)"
   ]
  },
  {
   "cell_type": "code",
   "execution_count": 13,
   "metadata": {},
   "outputs": [
    {
     "data": {
      "image/png": "[encoded data removed]",
      "text/plain": [
       "<Figure size 432x288 with 1 Axes>"
      ]
     },
     "metadata": {
      "needs_background": "light"
     },
     "output_type": "display_data"
    }
   ],
   "source": [
    "from sklearn.preprocessing import MinMaxScaler, StandardScaler\n",
    "from sklearn.decomposition import PCA\n",
    "\n",
    "\n",
    "# scaler = MinMaxScaler(feature_range=(0,1))\n",
    "scaler = StandardScaler()\n",
    "X = scaler.fit_transform(X_without)\n",
    "\n",
    "pca = PCA()\n",
    "principalComponents = pca.fit_transform(X)\n",
    "\n",
    "features = range(pca.n_components_)\n",
    "plt.bar(features, pca.explained_variance_ratio_, color='black')\n",
    "plt.xlabel('PCA features')\n",
    "plt.ylabel('variance %')\n",
    "plt.xticks(features)\n",
    "\n",
    "plt.show()\n",
    "\n",
    "PCA_components = pd.DataFrame(principalComponents)"
   ]
  },
  {
   "cell_type": "code",
   "execution_count": 14,
   "metadata": {},
   "outputs": [
    {
     "data": {
      "text/plain": [
       "0.4688037381608101"
      ]
     },
     "execution_count": 14,
     "metadata": {},
     "output_type": "execute_result"
    }
   ],
   "source": [
    "np.sum(pca.explained_variance_ratio_[:15])"
   ]
  },
  {
   "cell_type": "code",
   "execution_count": 89,
   "metadata": {},
   "outputs": [
    {
     "ename": "KeyboardInterrupt",
     "evalue": "",
     "output_type": "error",
     "traceback": [
      "\u001b[1;31m---------------------------------------------------------------------------\u001b[0m",
      "\u001b[1;31mKeyboardInterrupt\u001b[0m                         Traceback (most recent call last)",
      "\u001b[1;32m<ipython-input-89-d96a5d323ba9>\u001b[0m in \u001b[0;36m<module>\u001b[1;34m\u001b[0m\n\u001b[0;32m     16\u001b[0m                 \u001b[0mn_components\u001b[0m\u001b[1;33m=\u001b[0m\u001b[0mn_components\u001b[0m\u001b[1;33m,\u001b[0m \u001b[0mcovariance_type\u001b[0m\u001b[1;33m=\u001b[0m\u001b[0mcv_type\u001b[0m\u001b[1;33m\u001b[0m\u001b[1;33m\u001b[0m\u001b[0m\n\u001b[0;32m     17\u001b[0m             )\n\u001b[1;32m---> 18\u001b[1;33m             \u001b[0mgmm\u001b[0m\u001b[1;33m.\u001b[0m\u001b[0mfit\u001b[0m\u001b[1;33m(\u001b[0m\u001b[0mPCA_components\u001b[0m\u001b[1;33m.\u001b[0m\u001b[0miloc\u001b[0m\u001b[1;33m[\u001b[0m\u001b[1;33m:\u001b[0m\u001b[1;33m,\u001b[0m\u001b[1;33m:\u001b[0m\u001b[0mfeatures\u001b[0m\u001b[1;33m]\u001b[0m\u001b[1;33m)\u001b[0m\u001b[1;33m\u001b[0m\u001b[1;33m\u001b[0m\u001b[0m\n\u001b[0m\u001b[0;32m     19\u001b[0m             \u001b[0mbic\u001b[0m\u001b[1;33m.\u001b[0m\u001b[0mappend\u001b[0m\u001b[1;33m(\u001b[0m\u001b[0mgmm\u001b[0m\u001b[1;33m.\u001b[0m\u001b[0mbic\u001b[0m\u001b[1;33m(\u001b[0m\u001b[0mPCA_components\u001b[0m\u001b[1;33m.\u001b[0m\u001b[0miloc\u001b[0m\u001b[1;33m[\u001b[0m\u001b[1;33m:\u001b[0m\u001b[1;33m,\u001b[0m\u001b[1;33m:\u001b[0m\u001b[0mfeatures\u001b[0m\u001b[1;33m]\u001b[0m\u001b[1;33m)\u001b[0m\u001b[1;33m)\u001b[0m\u001b[1;33m\u001b[0m\u001b[1;33m\u001b[0m\u001b[0m\n\u001b[0;32m     20\u001b[0m             \u001b[1;32mif\u001b[0m \u001b[0mbic\u001b[0m\u001b[1;33m[\u001b[0m\u001b[1;33m-\u001b[0m\u001b[1;36m1\u001b[0m\u001b[1;33m]\u001b[0m \u001b[1;33m<\u001b[0m \u001b[0mlowest_bic\u001b[0m\u001b[1;33m:\u001b[0m\u001b[1;33m\u001b[0m\u001b[1;33m\u001b[0m\u001b[0m\n",
      "\u001b[1;32mc:\\Users\\Thoma\\.conda\\envs\\thesisProject\\lib\\site-packages\\sklearn\\mixture\\_base.py\u001b[0m in \u001b[0;36mfit\u001b[1;34m(self, X, y)\u001b[0m\n\u001b[0;32m    191\u001b[0m         \u001b[0mself\u001b[0m\u001b[1;33m\u001b[0m\u001b[1;33m\u001b[0m\u001b[0m\n\u001b[0;32m    192\u001b[0m         \"\"\"\n\u001b[1;32m--> 193\u001b[1;33m         \u001b[0mself\u001b[0m\u001b[1;33m.\u001b[0m\u001b[0mfit_predict\u001b[0m\u001b[1;33m(\u001b[0m\u001b[0mX\u001b[0m\u001b[1;33m,\u001b[0m \u001b[0my\u001b[0m\u001b[1;33m)\u001b[0m\u001b[1;33m\u001b[0m\u001b[1;33m\u001b[0m\u001b[0m\n\u001b[0m\u001b[0;32m    194\u001b[0m         \u001b[1;32mreturn\u001b[0m \u001b[0mself\u001b[0m\u001b[1;33m\u001b[0m\u001b[1;33m\u001b[0m\u001b[0m\n\u001b[0;32m    195\u001b[0m \u001b[1;33m\u001b[0m\u001b[0m\n",
      "\u001b[1;32mc:\\Users\\Thoma\\.conda\\envs\\thesisProject\\lib\\site-packages\\sklearn\\mixture\\_base.py\u001b[0m in \u001b[0;36mfit_predict\u001b[1;34m(self, X, y)\u001b[0m\n\u001b[0;32m    243\u001b[0m                 \u001b[0mprev_lower_bound\u001b[0m \u001b[1;33m=\u001b[0m \u001b[0mlower_bound\u001b[0m\u001b[1;33m\u001b[0m\u001b[1;33m\u001b[0m\u001b[0m\n\u001b[0;32m    244\u001b[0m \u001b[1;33m\u001b[0m\u001b[0m\n\u001b[1;32m--> 245\u001b[1;33m                 \u001b[0mlog_prob_norm\u001b[0m\u001b[1;33m,\u001b[0m \u001b[0mlog_resp\u001b[0m \u001b[1;33m=\u001b[0m \u001b[0mself\u001b[0m\u001b[1;33m.\u001b[0m\u001b[0m_e_step\u001b[0m\u001b[1;33m(\u001b[0m\u001b[0mX\u001b[0m\u001b[1;33m)\u001b[0m\u001b[1;33m\u001b[0m\u001b[1;33m\u001b[0m\u001b[0m\n\u001b[0m\u001b[0;32m    246\u001b[0m                 \u001b[0mself\u001b[0m\u001b[1;33m.\u001b[0m\u001b[0m_m_step\u001b[0m\u001b[1;33m(\u001b[0m\u001b[0mX\u001b[0m\u001b[1;33m,\u001b[0m \u001b[0mlog_resp\u001b[0m\u001b[1;33m)\u001b[0m\u001b[1;33m\u001b[0m\u001b[1;33m\u001b[0m\u001b[0m\n\u001b[0;32m    247\u001b[0m                 lower_bound = self._compute_lower_bound(\n",
      "\u001b[1;32mc:\\Users\\Thoma\\.conda\\envs\\thesisProject\\lib\\site-packages\\sklearn\\mixture\\_base.py\u001b[0m in \u001b[0;36m_e_step\u001b[1;34m(self, X)\u001b[0m\n\u001b[0;32m    296\u001b[0m             \u001b[0mthe\u001b[0m \u001b[0mpoint\u001b[0m \u001b[0mof\u001b[0m \u001b[0meach\u001b[0m \u001b[0msample\u001b[0m \u001b[1;32min\u001b[0m \u001b[0mX\u001b[0m\u001b[1;33m.\u001b[0m\u001b[1;33m\u001b[0m\u001b[1;33m\u001b[0m\u001b[0m\n\u001b[0;32m    297\u001b[0m         \"\"\"\n\u001b[1;32m--> 298\u001b[1;33m         \u001b[0mlog_prob_norm\u001b[0m\u001b[1;33m,\u001b[0m \u001b[0mlog_resp\u001b[0m \u001b[1;33m=\u001b[0m \u001b[0mself\u001b[0m\u001b[1;33m.\u001b[0m\u001b[0m_estimate_log_prob_resp\u001b[0m\u001b[1;33m(\u001b[0m\u001b[0mX\u001b[0m\u001b[1;33m)\u001b[0m\u001b[1;33m\u001b[0m\u001b[1;33m\u001b[0m\u001b[0m\n\u001b[0m\u001b[0;32m    299\u001b[0m         \u001b[1;32mreturn\u001b[0m \u001b[0mnp\u001b[0m\u001b[1;33m.\u001b[0m\u001b[0mmean\u001b[0m\u001b[1;33m(\u001b[0m\u001b[0mlog_prob_norm\u001b[0m\u001b[1;33m)\u001b[0m\u001b[1;33m,\u001b[0m \u001b[0mlog_resp\u001b[0m\u001b[1;33m\u001b[0m\u001b[1;33m\u001b[0m\u001b[0m\n\u001b[0;32m    300\u001b[0m \u001b[1;33m\u001b[0m\u001b[0m\n",
      "\u001b[1;32mc:\\Users\\Thoma\\.conda\\envs\\thesisProject\\lib\\site-packages\\sklearn\\mixture\\_base.py\u001b[0m in \u001b[0;36m_estimate_log_prob_resp\u001b[1;34m(self, X)\u001b[0m\n\u001b[0;32m    502\u001b[0m         \"\"\"\n\u001b[0;32m    503\u001b[0m         \u001b[0mweighted_log_prob\u001b[0m \u001b[1;33m=\u001b[0m \u001b[0mself\u001b[0m\u001b[1;33m.\u001b[0m\u001b[0m_estimate_weighted_log_prob\u001b[0m\u001b[1;33m(\u001b[0m\u001b[0mX\u001b[0m\u001b[1;33m)\u001b[0m\u001b[1;33m\u001b[0m\u001b[1;33m\u001b[0m\u001b[0m\n\u001b[1;32m--> 504\u001b[1;33m         \u001b[0mlog_prob_norm\u001b[0m \u001b[1;33m=\u001b[0m \u001b[0mlogsumexp\u001b[0m\u001b[1;33m(\u001b[0m\u001b[0mweighted_log_prob\u001b[0m\u001b[1;33m,\u001b[0m \u001b[0maxis\u001b[0m\u001b[1;33m=\u001b[0m\u001b[1;36m1\u001b[0m\u001b[1;33m)\u001b[0m\u001b[1;33m\u001b[0m\u001b[1;33m\u001b[0m\u001b[0m\n\u001b[0m\u001b[0;32m    505\u001b[0m         \u001b[1;32mwith\u001b[0m \u001b[0mnp\u001b[0m\u001b[1;33m.\u001b[0m\u001b[0merrstate\u001b[0m\u001b[1;33m(\u001b[0m\u001b[0munder\u001b[0m\u001b[1;33m=\u001b[0m\u001b[1;34m'ignore'\u001b[0m\u001b[1;33m)\u001b[0m\u001b[1;33m:\u001b[0m\u001b[1;33m\u001b[0m\u001b[1;33m\u001b[0m\u001b[0m\n\u001b[0;32m    506\u001b[0m             \u001b[1;31m# ignore underflow\u001b[0m\u001b[1;33m\u001b[0m\u001b[1;33m\u001b[0m\u001b[1;33m\u001b[0m\u001b[0m\n",
      "\u001b[1;32mc:\\Users\\Thoma\\.conda\\envs\\thesisProject\\lib\\site-packages\\scipy\\special\\_logsumexp.py\u001b[0m in \u001b[0;36mlogsumexp\u001b[1;34m(a, axis, b, keepdims, return_sign)\u001b[0m\n\u001b[0;32m    108\u001b[0m         \u001b[0mtmp\u001b[0m \u001b[1;33m=\u001b[0m \u001b[0mb\u001b[0m \u001b[1;33m*\u001b[0m \u001b[0mnp\u001b[0m\u001b[1;33m.\u001b[0m\u001b[0mexp\u001b[0m\u001b[1;33m(\u001b[0m\u001b[0ma\u001b[0m \u001b[1;33m-\u001b[0m \u001b[0ma_max\u001b[0m\u001b[1;33m)\u001b[0m\u001b[1;33m\u001b[0m\u001b[1;33m\u001b[0m\u001b[0m\n\u001b[0;32m    109\u001b[0m     \u001b[1;32melse\u001b[0m\u001b[1;33m:\u001b[0m\u001b[1;33m\u001b[0m\u001b[1;33m\u001b[0m\u001b[0m\n\u001b[1;32m--> 110\u001b[1;33m         \u001b[0mtmp\u001b[0m \u001b[1;33m=\u001b[0m \u001b[0mnp\u001b[0m\u001b[1;33m.\u001b[0m\u001b[0mexp\u001b[0m\u001b[1;33m(\u001b[0m\u001b[0ma\u001b[0m \u001b[1;33m-\u001b[0m \u001b[0ma_max\u001b[0m\u001b[1;33m)\u001b[0m\u001b[1;33m\u001b[0m\u001b[1;33m\u001b[0m\u001b[0m\n\u001b[0m\u001b[0;32m    111\u001b[0m \u001b[1;33m\u001b[0m\u001b[0m\n\u001b[0;32m    112\u001b[0m     \u001b[1;31m# suppress warnings about log of zero\u001b[0m\u001b[1;33m\u001b[0m\u001b[1;33m\u001b[0m\u001b[1;33m\u001b[0m\u001b[0m\n",
      "\u001b[1;31mKeyboardInterrupt\u001b[0m: "
     ]
    }
   ],
   "source": [
    "import numpy as np\n",
    "import itertools\n",
    "import matplotlib.pyplot as plt\n",
    "from sklearn import mixture\n",
    "\n",
    "lowest_bic = np.infty\n",
    "n_components_range = range(1, 45)\n",
    "cv_types = [\"spherical\", \"tied\", \"diag\", \"full\"]\n",
    "\n",
    "for features in range(5,20):\n",
    "    bic = []\n",
    "    for cv_type in cv_types:\n",
    "        for n_components in n_components_range:\n",
    "            # Fit a Gaussian mixture with EM\n",
    "            gmm = mixture.GaussianMixture(\n",
    "                n_components=n_components, covariance_type=cv_type\n",
    "            )\n",
    "            gmm.fit(PCA_components.iloc[:,:features])\n",
    "            bic.append(gmm.bic(PCA_components.iloc[:,:features]))\n",
    "            if bic[-1] < lowest_bic:\n",
    "                lowest_bic = bic[-1]\n",
    "                best_gmm = gmm\n",
    "\n",
    "    bic = np.array(bic)\n",
    "    color_iter = itertools.cycle([\"navy\", \"turquoise\", \"cornflowerblue\", \"darkorange\"])\n",
    "    clf = best_gmm\n",
    "    bars = []\n",
    "\n",
    "    # Plot the BIC scores\n",
    "    plt.figure(figsize=(20, 4))\n",
    "    spl = plt.subplot(1, 1, 1)\n",
    "    for i, (cv_type, color) in enumerate(zip(cv_types, color_iter)):\n",
    "        xpos = np.array(n_components_range) + 0.2 * (i - 2)\n",
    "        bars.append(\n",
    "            plt.bar(\n",
    "                xpos,\n",
    "                bic[i * len(n_components_range) : (i + 1) * len(n_components_range)],\n",
    "                width=0.2,\n",
    "                color=color,\n",
    "            )\n",
    "        )\n",
    "    plt.xticks(n_components_range)\n",
    "    plt.ylim([bic.min() * 1.01 - 0.01 * bic.max(), bic.max()])\n",
    "    plt.title(\"BIC score per model, \"+ str(features) +\" features\")\n",
    "    xpos = (\n",
    "        np.mod(bic.argmin(), len(n_components_range))\n",
    "        + 0.65\n",
    "        + 0.2 * np.floor(bic.argmin() / len(n_components_range))\n",
    "    )\n",
    "    plt.text(xpos, bic.min() * 0.97 + 0.03 * bic.max(), \"*\", fontsize=14)\n",
    "    spl.set_xlabel(\"Number of components\")\n",
    "    spl.legend([b[0] for b in bars], cv_types)\n",
    "    plt.show()"
   ]
  },
  {
   "cell_type": "code",
   "execution_count": null,
   "metadata": {},
   "outputs": [],
   "source": [
    "# from sklearn.manifold import TSNE\n",
    "# tSNE = TSNE(n_components=3)\n",
    "# tSNE_COMPS = tSNE.fit_transform(PCA_components)\n",
    "\n",
    "# tSNE_PCA_components = pd.DataFrame(tSNE_COMPS)"
   ]
  },
  {
   "cell_type": "code",
   "execution_count": 90,
   "metadata": {},
   "outputs": [
    {
     "data": {
      "image/png": "[encoded data removed]",
      "text/plain": [
       "<Figure size 432x288 with 1 Axes>"
      ]
     },
     "metadata": {
      "needs_background": "light"
     },
     "output_type": "display_data"
    }
   ],
   "source": [
    "plt.scatter(PCA_components[0], PCA_components[2], alpha=.04)\n",
    "plt.show()"
   ]
  },
  {
   "cell_type": "code",
   "execution_count": 57,
   "metadata": {},
   "outputs": [
    {
     "ename": "ValueError",
     "evalue": "Length of values (16747) does not match length of index (9945)",
     "output_type": "error",
     "traceback": [
      "\u001b[1;31m---------------------------------------------------------------------------\u001b[0m",
      "\u001b[1;31mValueError\u001b[0m                                Traceback (most recent call last)",
      "\u001b[1;32m<ipython-input-57-82992bcaf022>\u001b[0m in \u001b[0;36m<module>\u001b[1;34m\u001b[0m\n\u001b[0;32m      8\u001b[0m \u001b[0mlabels\u001b[0m \u001b[1;33m=\u001b[0m \u001b[0mgmm\u001b[0m\u001b[1;33m.\u001b[0m\u001b[0mfit_predict\u001b[0m\u001b[1;33m(\u001b[0m\u001b[0mPCA_components\u001b[0m\u001b[1;33m.\u001b[0m\u001b[0miloc\u001b[0m\u001b[1;33m[\u001b[0m\u001b[1;33m:\u001b[0m\u001b[1;33m,\u001b[0m\u001b[1;33m:\u001b[0m\u001b[0mfeatures\u001b[0m\u001b[1;33m]\u001b[0m\u001b[1;33m)\u001b[0m\u001b[1;33m\u001b[0m\u001b[1;33m\u001b[0m\u001b[0m\n\u001b[0;32m      9\u001b[0m \u001b[1;33m\u001b[0m\u001b[0m\n\u001b[1;32m---> 10\u001b[1;33m \u001b[0mdataset\u001b[0m\u001b[1;33m[\u001b[0m\u001b[1;34m\"gmmLabels-\"\u001b[0m\u001b[1;33m+\u001b[0m\u001b[0mstr\u001b[0m\u001b[1;33m(\u001b[0m\u001b[0mcomponents\u001b[0m\u001b[1;33m)\u001b[0m\u001b[1;33m+\u001b[0m\u001b[0mstr\u001b[0m\u001b[1;33m(\u001b[0m\u001b[0mfeatures\u001b[0m\u001b[1;33m)\u001b[0m\u001b[1;33m]\u001b[0m \u001b[1;33m=\u001b[0m \u001b[0mlabels\u001b[0m\u001b[1;33m\u001b[0m\u001b[1;33m\u001b[0m\u001b[0m\n\u001b[0m",
      "\u001b[1;32mc:\\Users\\Thoma\\.conda\\envs\\thesisProject\\lib\\site-packages\\pandas\\core\\frame.py\u001b[0m in \u001b[0;36m__setitem__\u001b[1;34m(self, key, value)\u001b[0m\n\u001b[0;32m   3038\u001b[0m         \u001b[1;32melse\u001b[0m\u001b[1;33m:\u001b[0m\u001b[1;33m\u001b[0m\u001b[1;33m\u001b[0m\u001b[0m\n\u001b[0;32m   3039\u001b[0m             \u001b[1;31m# set column\u001b[0m\u001b[1;33m\u001b[0m\u001b[1;33m\u001b[0m\u001b[1;33m\u001b[0m\u001b[0m\n\u001b[1;32m-> 3040\u001b[1;33m             \u001b[0mself\u001b[0m\u001b[1;33m.\u001b[0m\u001b[0m_set_item\u001b[0m\u001b[1;33m(\u001b[0m\u001b[0mkey\u001b[0m\u001b[1;33m,\u001b[0m \u001b[0mvalue\u001b[0m\u001b[1;33m)\u001b[0m\u001b[1;33m\u001b[0m\u001b[1;33m\u001b[0m\u001b[0m\n\u001b[0m\u001b[0;32m   3041\u001b[0m \u001b[1;33m\u001b[0m\u001b[0m\n\u001b[0;32m   3042\u001b[0m     \u001b[1;32mdef\u001b[0m \u001b[0m_setitem_slice\u001b[0m\u001b[1;33m(\u001b[0m\u001b[0mself\u001b[0m\u001b[1;33m,\u001b[0m \u001b[0mkey\u001b[0m\u001b[1;33m:\u001b[0m \u001b[0mslice\u001b[0m\u001b[1;33m,\u001b[0m \u001b[0mvalue\u001b[0m\u001b[1;33m)\u001b[0m\u001b[1;33m:\u001b[0m\u001b[1;33m\u001b[0m\u001b[1;33m\u001b[0m\u001b[0m\n",
      "\u001b[1;32mc:\\Users\\Thoma\\.conda\\envs\\thesisProject\\lib\\site-packages\\pandas\\core\\frame.py\u001b[0m in \u001b[0;36m_set_item\u001b[1;34m(self, key, value)\u001b[0m\n\u001b[0;32m   3114\u001b[0m         \"\"\"\n\u001b[0;32m   3115\u001b[0m         \u001b[0mself\u001b[0m\u001b[1;33m.\u001b[0m\u001b[0m_ensure_valid_index\u001b[0m\u001b[1;33m(\u001b[0m\u001b[0mvalue\u001b[0m\u001b[1;33m)\u001b[0m\u001b[1;33m\u001b[0m\u001b[1;33m\u001b[0m\u001b[0m\n\u001b[1;32m-> 3116\u001b[1;33m         \u001b[0mvalue\u001b[0m \u001b[1;33m=\u001b[0m \u001b[0mself\u001b[0m\u001b[1;33m.\u001b[0m\u001b[0m_sanitize_column\u001b[0m\u001b[1;33m(\u001b[0m\u001b[0mkey\u001b[0m\u001b[1;33m,\u001b[0m \u001b[0mvalue\u001b[0m\u001b[1;33m)\u001b[0m\u001b[1;33m\u001b[0m\u001b[1;33m\u001b[0m\u001b[0m\n\u001b[0m\u001b[0;32m   3117\u001b[0m         \u001b[0mNDFrame\u001b[0m\u001b[1;33m.\u001b[0m\u001b[0m_set_item\u001b[0m\u001b[1;33m(\u001b[0m\u001b[0mself\u001b[0m\u001b[1;33m,\u001b[0m \u001b[0mkey\u001b[0m\u001b[1;33m,\u001b[0m \u001b[0mvalue\u001b[0m\u001b[1;33m)\u001b[0m\u001b[1;33m\u001b[0m\u001b[1;33m\u001b[0m\u001b[0m\n\u001b[0;32m   3118\u001b[0m \u001b[1;33m\u001b[0m\u001b[0m\n",
      "\u001b[1;32mc:\\Users\\Thoma\\.conda\\envs\\thesisProject\\lib\\site-packages\\pandas\\core\\frame.py\u001b[0m in \u001b[0;36m_sanitize_column\u001b[1;34m(self, key, value, broadcast)\u001b[0m\n\u001b[0;32m   3762\u001b[0m \u001b[1;33m\u001b[0m\u001b[0m\n\u001b[0;32m   3763\u001b[0m             \u001b[1;31m# turn me into an ndarray\u001b[0m\u001b[1;33m\u001b[0m\u001b[1;33m\u001b[0m\u001b[1;33m\u001b[0m\u001b[0m\n\u001b[1;32m-> 3764\u001b[1;33m             \u001b[0mvalue\u001b[0m \u001b[1;33m=\u001b[0m \u001b[0msanitize_index\u001b[0m\u001b[1;33m(\u001b[0m\u001b[0mvalue\u001b[0m\u001b[1;33m,\u001b[0m \u001b[0mself\u001b[0m\u001b[1;33m.\u001b[0m\u001b[0mindex\u001b[0m\u001b[1;33m)\u001b[0m\u001b[1;33m\u001b[0m\u001b[1;33m\u001b[0m\u001b[0m\n\u001b[0m\u001b[0;32m   3765\u001b[0m             \u001b[1;32mif\u001b[0m \u001b[1;32mnot\u001b[0m \u001b[0misinstance\u001b[0m\u001b[1;33m(\u001b[0m\u001b[0mvalue\u001b[0m\u001b[1;33m,\u001b[0m \u001b[1;33m(\u001b[0m\u001b[0mnp\u001b[0m\u001b[1;33m.\u001b[0m\u001b[0mndarray\u001b[0m\u001b[1;33m,\u001b[0m \u001b[0mIndex\u001b[0m\u001b[1;33m)\u001b[0m\u001b[1;33m)\u001b[0m\u001b[1;33m:\u001b[0m\u001b[1;33m\u001b[0m\u001b[1;33m\u001b[0m\u001b[0m\n\u001b[0;32m   3766\u001b[0m                 \u001b[1;32mif\u001b[0m \u001b[0misinstance\u001b[0m\u001b[1;33m(\u001b[0m\u001b[0mvalue\u001b[0m\u001b[1;33m,\u001b[0m \u001b[0mlist\u001b[0m\u001b[1;33m)\u001b[0m \u001b[1;32mand\u001b[0m \u001b[0mlen\u001b[0m\u001b[1;33m(\u001b[0m\u001b[0mvalue\u001b[0m\u001b[1;33m)\u001b[0m \u001b[1;33m>\u001b[0m \u001b[1;36m0\u001b[0m\u001b[1;33m:\u001b[0m\u001b[1;33m\u001b[0m\u001b[1;33m\u001b[0m\u001b[0m\n",
      "\u001b[1;32mc:\\Users\\Thoma\\.conda\\envs\\thesisProject\\lib\\site-packages\\pandas\\core\\internals\\construction.py\u001b[0m in \u001b[0;36msanitize_index\u001b[1;34m(data, index)\u001b[0m\n\u001b[0;32m    745\u001b[0m     \"\"\"\n\u001b[0;32m    746\u001b[0m     \u001b[1;32mif\u001b[0m \u001b[0mlen\u001b[0m\u001b[1;33m(\u001b[0m\u001b[0mdata\u001b[0m\u001b[1;33m)\u001b[0m \u001b[1;33m!=\u001b[0m \u001b[0mlen\u001b[0m\u001b[1;33m(\u001b[0m\u001b[0mindex\u001b[0m\u001b[1;33m)\u001b[0m\u001b[1;33m:\u001b[0m\u001b[1;33m\u001b[0m\u001b[1;33m\u001b[0m\u001b[0m\n\u001b[1;32m--> 747\u001b[1;33m         raise ValueError(\n\u001b[0m\u001b[0;32m    748\u001b[0m             \u001b[1;34m\"Length of values \"\u001b[0m\u001b[1;33m\u001b[0m\u001b[1;33m\u001b[0m\u001b[0m\n\u001b[0;32m    749\u001b[0m             \u001b[1;34mf\"({len(data)}) \"\u001b[0m\u001b[1;33m\u001b[0m\u001b[1;33m\u001b[0m\u001b[0m\n",
      "\u001b[1;31mValueError\u001b[0m: Length of values (16747) does not match length of index (9945)"
     ]
    }
   ],
   "source": [
    "from sklearn import mixture\n",
    "from mpl_toolkits.mplot3d import Axes3D\n",
    "\n",
    "components = 8\n",
    "features = 15\n",
    "\n",
    "gmm = mixture.GaussianMixture(n_components=components, covariance_type='full')\n",
    "labels = gmm.fit_predict(PCA_components.iloc[:,:features])\n",
    "\n",
    "dataset[\"gmmLabels-\"+str(components)+str(features)] = labels"
   ]
  },
  {
   "cell_type": "code",
   "execution_count": 24,
   "metadata": {},
   "outputs": [
    {
     "data": {
      "image/png": "[encoded data removed]",
      "text/plain": [
       "<Figure size 432x288 with 1 Axes>"
      ]
     },
     "metadata": {
      "needs_background": "light"
     },
     "output_type": "display_data"
    }
   ],
   "source": [
    "from mpl_toolkits.mplot3d import Axes3D\n",
    "\n",
    "fig = plt.figure()\n",
    "ax = plt.axes(projection='3d')\n",
    "ax.scatter3D(PCA_components[0], PCA_components[1], PCA_components[4], c=labels, alpha=.5)\n",
    "ax.view_init(elev=5., azim=200)"
   ]
  },
  {
   "cell_type": "code",
   "execution_count": 27,
   "metadata": {},
   "outputs": [
    {
     "ename": "ValueError",
     "evalue": "Unknown metric <module 'gower' from 'c:\\\\Users\\\\Thoma\\\\.conda\\\\envs\\\\thesisProject\\\\lib\\\\site-packages\\\\gower\\\\__init__.py'>. Valid metrics are ['euclidean', 'l2', 'l1', 'manhattan', 'cityblock', 'braycurtis', 'canberra', 'chebyshev', 'correlation', 'cosine', 'dice', 'hamming', 'jaccard', 'kulsinski', 'mahalanobis', 'matching', 'minkowski', 'rogerstanimoto', 'russellrao', 'seuclidean', 'sokalmichener', 'sokalsneath', 'sqeuclidean', 'yule', 'wminkowski', 'nan_euclidean', 'haversine'], or 'precomputed', or a callable",
     "output_type": "error",
     "traceback": [
      "\u001b[1;31m---------------------------------------------------------------------------\u001b[0m",
      "\u001b[1;31mValueError\u001b[0m                                Traceback (most recent call last)",
      "\u001b[1;32m<ipython-input-27-d543c56638c2>\u001b[0m in \u001b[0;36m<module>\u001b[1;34m\u001b[0m\n\u001b[0;32m      6\u001b[0m \u001b[0mscore1\u001b[0m \u001b[1;33m=\u001b[0m \u001b[0msilhouette_score\u001b[0m\u001b[1;33m(\u001b[0m\u001b[0mPCA_components\u001b[0m\u001b[1;33m.\u001b[0m\u001b[0miloc\u001b[0m\u001b[1;33m[\u001b[0m\u001b[1;33m:\u001b[0m\u001b[1;33m,\u001b[0m\u001b[1;33m:\u001b[0m\u001b[1;36m4\u001b[0m\u001b[1;33m]\u001b[0m\u001b[1;33m,\u001b[0m\u001b[0mkmeans\u001b[0m\u001b[1;33m.\u001b[0m\u001b[0mlabels_\u001b[0m\u001b[1;33m,\u001b[0m\u001b[0mmetric\u001b[0m\u001b[1;33m=\u001b[0m\u001b[1;34m'euclidean'\u001b[0m\u001b[1;33m)\u001b[0m\u001b[1;33m\u001b[0m\u001b[1;33m\u001b[0m\u001b[0m\n\u001b[0;32m      7\u001b[0m \u001b[0mscore2\u001b[0m \u001b[1;33m=\u001b[0m \u001b[0msilhouette_score\u001b[0m\u001b[1;33m(\u001b[0m\u001b[0mPCA_components\u001b[0m\u001b[1;33m.\u001b[0m\u001b[0miloc\u001b[0m\u001b[1;33m[\u001b[0m\u001b[1;33m:\u001b[0m\u001b[1;33m,\u001b[0m\u001b[1;33m:\u001b[0m\u001b[1;36m4\u001b[0m\u001b[1;33m]\u001b[0m\u001b[1;33m,\u001b[0m\u001b[0mkmeans\u001b[0m\u001b[1;33m.\u001b[0m\u001b[0mlabels_\u001b[0m\u001b[1;33m,\u001b[0m\u001b[0mmetric\u001b[0m\u001b[1;33m=\u001b[0m\u001b[1;34m'correlation'\u001b[0m\u001b[1;33m)\u001b[0m\u001b[1;33m\u001b[0m\u001b[1;33m\u001b[0m\u001b[0m\n\u001b[1;32m----> 8\u001b[1;33m \u001b[0mscore4\u001b[0m \u001b[1;33m=\u001b[0m \u001b[0msilhouette_score\u001b[0m\u001b[1;33m(\u001b[0m\u001b[0mPCA_components\u001b[0m\u001b[1;33m.\u001b[0m\u001b[0miloc\u001b[0m\u001b[1;33m[\u001b[0m\u001b[1;33m:\u001b[0m\u001b[1;33m,\u001b[0m\u001b[1;33m:\u001b[0m\u001b[1;36m4\u001b[0m\u001b[1;33m]\u001b[0m\u001b[1;33m,\u001b[0m\u001b[0mkmeans\u001b[0m\u001b[1;33m.\u001b[0m\u001b[0mlabels_\u001b[0m\u001b[1;33m,\u001b[0m\u001b[0mmetric\u001b[0m\u001b[1;33m=\u001b[0m\u001b[0mgower\u001b[0m\u001b[1;33m)\u001b[0m\u001b[1;33m\u001b[0m\u001b[1;33m\u001b[0m\u001b[0m\n\u001b[0m\u001b[0;32m      9\u001b[0m \u001b[0mprint\u001b[0m\u001b[1;33m(\u001b[0m\u001b[0mscore0\u001b[0m\u001b[1;33m,\u001b[0m \u001b[0mscore1\u001b[0m\u001b[1;33m,\u001b[0m \u001b[0mscore4\u001b[0m\u001b[1;33m)\u001b[0m\u001b[1;33m\u001b[0m\u001b[1;33m\u001b[0m\u001b[0m\n",
      "\u001b[1;32mc:\\Users\\Thoma\\.conda\\envs\\thesisProject\\lib\\site-packages\\sklearn\\utils\\validation.py\u001b[0m in \u001b[0;36minner_f\u001b[1;34m(*args, **kwargs)\u001b[0m\n\u001b[0;32m     70\u001b[0m                           FutureWarning)\n\u001b[0;32m     71\u001b[0m         \u001b[0mkwargs\u001b[0m\u001b[1;33m.\u001b[0m\u001b[0mupdate\u001b[0m\u001b[1;33m(\u001b[0m\u001b[1;33m{\u001b[0m\u001b[0mk\u001b[0m\u001b[1;33m:\u001b[0m \u001b[0marg\u001b[0m \u001b[1;32mfor\u001b[0m \u001b[0mk\u001b[0m\u001b[1;33m,\u001b[0m \u001b[0marg\u001b[0m \u001b[1;32min\u001b[0m \u001b[0mzip\u001b[0m\u001b[1;33m(\u001b[0m\u001b[0msig\u001b[0m\u001b[1;33m.\u001b[0m\u001b[0mparameters\u001b[0m\u001b[1;33m,\u001b[0m \u001b[0margs\u001b[0m\u001b[1;33m)\u001b[0m\u001b[1;33m}\u001b[0m\u001b[1;33m)\u001b[0m\u001b[1;33m\u001b[0m\u001b[1;33m\u001b[0m\u001b[0m\n\u001b[1;32m---> 72\u001b[1;33m         \u001b[1;32mreturn\u001b[0m \u001b[0mf\u001b[0m\u001b[1;33m(\u001b[0m\u001b[1;33m**\u001b[0m\u001b[0mkwargs\u001b[0m\u001b[1;33m)\u001b[0m\u001b[1;33m\u001b[0m\u001b[1;33m\u001b[0m\u001b[0m\n\u001b[0m\u001b[0;32m     73\u001b[0m     \u001b[1;32mreturn\u001b[0m \u001b[0minner_f\u001b[0m\u001b[1;33m\u001b[0m\u001b[1;33m\u001b[0m\u001b[0m\n\u001b[0;32m     74\u001b[0m \u001b[1;33m\u001b[0m\u001b[0m\n",
      "\u001b[1;32mc:\\Users\\Thoma\\.conda\\envs\\thesisProject\\lib\\site-packages\\sklearn\\metrics\\cluster\\_unsupervised.py\u001b[0m in \u001b[0;36msilhouette_score\u001b[1;34m(X, labels, metric, sample_size, random_state, **kwds)\u001b[0m\n\u001b[0;32m    115\u001b[0m         \u001b[1;32melse\u001b[0m\u001b[1;33m:\u001b[0m\u001b[1;33m\u001b[0m\u001b[1;33m\u001b[0m\u001b[0m\n\u001b[0;32m    116\u001b[0m             \u001b[0mX\u001b[0m\u001b[1;33m,\u001b[0m \u001b[0mlabels\u001b[0m \u001b[1;33m=\u001b[0m \u001b[0mX\u001b[0m\u001b[1;33m[\u001b[0m\u001b[0mindices\u001b[0m\u001b[1;33m]\u001b[0m\u001b[1;33m,\u001b[0m \u001b[0mlabels\u001b[0m\u001b[1;33m[\u001b[0m\u001b[0mindices\u001b[0m\u001b[1;33m]\u001b[0m\u001b[1;33m\u001b[0m\u001b[1;33m\u001b[0m\u001b[0m\n\u001b[1;32m--> 117\u001b[1;33m     \u001b[1;32mreturn\u001b[0m \u001b[0mnp\u001b[0m\u001b[1;33m.\u001b[0m\u001b[0mmean\u001b[0m\u001b[1;33m(\u001b[0m\u001b[0msilhouette_samples\u001b[0m\u001b[1;33m(\u001b[0m\u001b[0mX\u001b[0m\u001b[1;33m,\u001b[0m \u001b[0mlabels\u001b[0m\u001b[1;33m,\u001b[0m \u001b[0mmetric\u001b[0m\u001b[1;33m=\u001b[0m\u001b[0mmetric\u001b[0m\u001b[1;33m,\u001b[0m \u001b[1;33m**\u001b[0m\u001b[0mkwds\u001b[0m\u001b[1;33m)\u001b[0m\u001b[1;33m)\u001b[0m\u001b[1;33m\u001b[0m\u001b[1;33m\u001b[0m\u001b[0m\n\u001b[0m\u001b[0;32m    118\u001b[0m \u001b[1;33m\u001b[0m\u001b[0m\n\u001b[0;32m    119\u001b[0m \u001b[1;33m\u001b[0m\u001b[0m\n",
      "\u001b[1;32mc:\\Users\\Thoma\\.conda\\envs\\thesisProject\\lib\\site-packages\\sklearn\\utils\\validation.py\u001b[0m in \u001b[0;36minner_f\u001b[1;34m(*args, **kwargs)\u001b[0m\n\u001b[0;32m     70\u001b[0m                           FutureWarning)\n\u001b[0;32m     71\u001b[0m         \u001b[0mkwargs\u001b[0m\u001b[1;33m.\u001b[0m\u001b[0mupdate\u001b[0m\u001b[1;33m(\u001b[0m\u001b[1;33m{\u001b[0m\u001b[0mk\u001b[0m\u001b[1;33m:\u001b[0m \u001b[0marg\u001b[0m \u001b[1;32mfor\u001b[0m \u001b[0mk\u001b[0m\u001b[1;33m,\u001b[0m \u001b[0marg\u001b[0m \u001b[1;32min\u001b[0m \u001b[0mzip\u001b[0m\u001b[1;33m(\u001b[0m\u001b[0msig\u001b[0m\u001b[1;33m.\u001b[0m\u001b[0mparameters\u001b[0m\u001b[1;33m,\u001b[0m \u001b[0margs\u001b[0m\u001b[1;33m)\u001b[0m\u001b[1;33m}\u001b[0m\u001b[1;33m)\u001b[0m\u001b[1;33m\u001b[0m\u001b[1;33m\u001b[0m\u001b[0m\n\u001b[1;32m---> 72\u001b[1;33m         \u001b[1;32mreturn\u001b[0m \u001b[0mf\u001b[0m\u001b[1;33m(\u001b[0m\u001b[1;33m**\u001b[0m\u001b[0mkwargs\u001b[0m\u001b[1;33m)\u001b[0m\u001b[1;33m\u001b[0m\u001b[1;33m\u001b[0m\u001b[0m\n\u001b[0m\u001b[0;32m     73\u001b[0m     \u001b[1;32mreturn\u001b[0m \u001b[0minner_f\u001b[0m\u001b[1;33m\u001b[0m\u001b[1;33m\u001b[0m\u001b[0m\n\u001b[0;32m     74\u001b[0m \u001b[1;33m\u001b[0m\u001b[0m\n",
      "\u001b[1;32mc:\\Users\\Thoma\\.conda\\envs\\thesisProject\\lib\\site-packages\\sklearn\\metrics\\cluster\\_unsupervised.py\u001b[0m in \u001b[0;36msilhouette_samples\u001b[1;34m(X, labels, metric, **kwds)\u001b[0m\n\u001b[0;32m    232\u001b[0m     reduce_func = functools.partial(_silhouette_reduce,\n\u001b[0;32m    233\u001b[0m                                     labels=labels, label_freqs=label_freqs)\n\u001b[1;32m--> 234\u001b[1;33m     results = zip(*pairwise_distances_chunked(X, reduce_func=reduce_func,\n\u001b[0m\u001b[0;32m    235\u001b[0m                                               **kwds))\n\u001b[0;32m    236\u001b[0m     \u001b[0mintra_clust_dists\u001b[0m\u001b[1;33m,\u001b[0m \u001b[0minter_clust_dists\u001b[0m \u001b[1;33m=\u001b[0m \u001b[0mresults\u001b[0m\u001b[1;33m\u001b[0m\u001b[1;33m\u001b[0m\u001b[0m\n",
      "\u001b[1;32mc:\\Users\\Thoma\\.conda\\envs\\thesisProject\\lib\\site-packages\\sklearn\\metrics\\pairwise.py\u001b[0m in \u001b[0;36mpairwise_distances_chunked\u001b[1;34m(X, Y, reduce_func, metric, n_jobs, working_memory, **kwds)\u001b[0m\n\u001b[0;32m   1614\u001b[0m         \u001b[1;32melse\u001b[0m\u001b[1;33m:\u001b[0m\u001b[1;33m\u001b[0m\u001b[1;33m\u001b[0m\u001b[0m\n\u001b[0;32m   1615\u001b[0m             \u001b[0mX_chunk\u001b[0m \u001b[1;33m=\u001b[0m \u001b[0mX\u001b[0m\u001b[1;33m[\u001b[0m\u001b[0msl\u001b[0m\u001b[1;33m]\u001b[0m\u001b[1;33m\u001b[0m\u001b[1;33m\u001b[0m\u001b[0m\n\u001b[1;32m-> 1616\u001b[1;33m         D_chunk = pairwise_distances(X_chunk, Y, metric=metric,\n\u001b[0m\u001b[0;32m   1617\u001b[0m                                      n_jobs=n_jobs, **kwds)\n\u001b[0;32m   1618\u001b[0m         if ((X is Y or Y is None)\n",
      "\u001b[1;32mc:\\Users\\Thoma\\.conda\\envs\\thesisProject\\lib\\site-packages\\sklearn\\utils\\validation.py\u001b[0m in \u001b[0;36minner_f\u001b[1;34m(*args, **kwargs)\u001b[0m\n\u001b[0;32m     70\u001b[0m                           FutureWarning)\n\u001b[0;32m     71\u001b[0m         \u001b[0mkwargs\u001b[0m\u001b[1;33m.\u001b[0m\u001b[0mupdate\u001b[0m\u001b[1;33m(\u001b[0m\u001b[1;33m{\u001b[0m\u001b[0mk\u001b[0m\u001b[1;33m:\u001b[0m \u001b[0marg\u001b[0m \u001b[1;32mfor\u001b[0m \u001b[0mk\u001b[0m\u001b[1;33m,\u001b[0m \u001b[0marg\u001b[0m \u001b[1;32min\u001b[0m \u001b[0mzip\u001b[0m\u001b[1;33m(\u001b[0m\u001b[0msig\u001b[0m\u001b[1;33m.\u001b[0m\u001b[0mparameters\u001b[0m\u001b[1;33m,\u001b[0m \u001b[0margs\u001b[0m\u001b[1;33m)\u001b[0m\u001b[1;33m}\u001b[0m\u001b[1;33m)\u001b[0m\u001b[1;33m\u001b[0m\u001b[1;33m\u001b[0m\u001b[0m\n\u001b[1;32m---> 72\u001b[1;33m         \u001b[1;32mreturn\u001b[0m \u001b[0mf\u001b[0m\u001b[1;33m(\u001b[0m\u001b[1;33m**\u001b[0m\u001b[0mkwargs\u001b[0m\u001b[1;33m)\u001b[0m\u001b[1;33m\u001b[0m\u001b[1;33m\u001b[0m\u001b[0m\n\u001b[0m\u001b[0;32m     73\u001b[0m     \u001b[1;32mreturn\u001b[0m \u001b[0minner_f\u001b[0m\u001b[1;33m\u001b[0m\u001b[1;33m\u001b[0m\u001b[0m\n\u001b[0;32m     74\u001b[0m \u001b[1;33m\u001b[0m\u001b[0m\n",
      "\u001b[1;32mc:\\Users\\Thoma\\.conda\\envs\\thesisProject\\lib\\site-packages\\sklearn\\metrics\\pairwise.py\u001b[0m in \u001b[0;36mpairwise_distances\u001b[1;34m(X, Y, metric, n_jobs, force_all_finite, **kwds)\u001b[0m\n\u001b[0;32m   1736\u001b[0m     if (metric not in _VALID_METRICS and\n\u001b[0;32m   1737\u001b[0m             not callable(metric) and metric != \"precomputed\"):\n\u001b[1;32m-> 1738\u001b[1;33m         raise ValueError(\"Unknown metric %s. \"\n\u001b[0m\u001b[0;32m   1739\u001b[0m                          \u001b[1;34m\"Valid metrics are %s, or 'precomputed', or a \"\u001b[0m\u001b[1;33m\u001b[0m\u001b[1;33m\u001b[0m\u001b[0m\n\u001b[0;32m   1740\u001b[0m                          \"callable\" % (metric, _VALID_METRICS))\n",
      "\u001b[1;31mValueError\u001b[0m: Unknown metric <module 'gower' from 'c:\\\\Users\\\\Thoma\\\\.conda\\\\envs\\\\thesisProject\\\\lib\\\\site-packages\\\\gower\\\\__init__.py'>. Valid metrics are ['euclidean', 'l2', 'l1', 'manhattan', 'cityblock', 'braycurtis', 'canberra', 'chebyshev', 'correlation', 'cosine', 'dice', 'hamming', 'jaccard', 'kulsinski', 'mahalanobis', 'matching', 'minkowski', 'rogerstanimoto', 'russellrao', 'seuclidean', 'sokalmichener', 'sokalsneath', 'sqeuclidean', 'yule', 'wminkowski', 'nan_euclidean', 'haversine'], or 'precomputed', or a callable"
     ]
    }
   ],
   "source": [
    "import gower\n",
    "\n",
    "kmeans = KMeans(n_clusters=4)\n",
    "kmeans.fit_predict(PCA_components.iloc[:,:4])\n",
    "score0 = kmeans.inertia_\n",
    "score1 = silhouette_score(PCA_components.iloc[:,:4],kmeans.labels_,metric='euclidean')\n",
    "score2 = silhouette_score(PCA_components.iloc[:,:4],kmeans.labels_,metric='correlation')\n",
    "score4 = silhouette_score(PCA_components.iloc[:,:4],kmeans.labels_,metric=gower)\n",
    "print(score0, score1, score4)"
   ]
  },
  {
   "cell_type": "code",
   "execution_count": 1,
   "metadata": {},
   "outputs": [
    {
     "ename": "NameError",
     "evalue": "name 'PCA_components' is not defined",
     "output_type": "error",
     "traceback": [
      "\u001b[1;31m---------------------------------------------------------------------------\u001b[0m",
      "\u001b[1;31mNameError\u001b[0m                                 Traceback (most recent call last)",
      "\u001b[1;32m<ipython-input-1-930c1f337c05>\u001b[0m in \u001b[0;36m<module>\u001b[1;34m\u001b[0m\n\u001b[0;32m     17\u001b[0m \u001b[1;33m\u001b[0m\u001b[0m\n\u001b[0;32m     18\u001b[0m         \u001b[0mkmeans\u001b[0m \u001b[1;33m=\u001b[0m \u001b[0mKMeans\u001b[0m\u001b[1;33m(\u001b[0m\u001b[0mn_clusters\u001b[0m\u001b[1;33m=\u001b[0m\u001b[0mk\u001b[0m\u001b[1;33m)\u001b[0m\u001b[1;33m\u001b[0m\u001b[1;33m\u001b[0m\u001b[0m\n\u001b[1;32m---> 19\u001b[1;33m         \u001b[0mkmeans\u001b[0m\u001b[1;33m.\u001b[0m\u001b[0mfit_predict\u001b[0m\u001b[1;33m(\u001b[0m\u001b[0mPCA_components\u001b[0m\u001b[1;33m.\u001b[0m\u001b[0miloc\u001b[0m\u001b[1;33m[\u001b[0m\u001b[1;33m:\u001b[0m\u001b[1;33m,\u001b[0m\u001b[1;33m:\u001b[0m\u001b[0mfeatures\u001b[0m\u001b[1;33m]\u001b[0m\u001b[1;33m)\u001b[0m\u001b[1;33m\u001b[0m\u001b[1;33m\u001b[0m\u001b[0m\n\u001b[0m\u001b[0;32m     20\u001b[0m         \u001b[0mscore0\u001b[0m \u001b[1;33m=\u001b[0m \u001b[0mkmeans\u001b[0m\u001b[1;33m.\u001b[0m\u001b[0minertia_\u001b[0m\u001b[1;33m\u001b[0m\u001b[1;33m\u001b[0m\u001b[0m\n\u001b[0;32m     21\u001b[0m         \u001b[0mscore1\u001b[0m \u001b[1;33m=\u001b[0m \u001b[0msilhouette_score\u001b[0m\u001b[1;33m(\u001b[0m\u001b[0mPCA_components\u001b[0m\u001b[1;33m.\u001b[0m\u001b[0miloc\u001b[0m\u001b[1;33m[\u001b[0m\u001b[1;33m:\u001b[0m\u001b[1;33m,\u001b[0m\u001b[1;33m:\u001b[0m\u001b[0mfeatures\u001b[0m\u001b[1;33m]\u001b[0m\u001b[1;33m,\u001b[0m\u001b[0mkmeans\u001b[0m\u001b[1;33m.\u001b[0m\u001b[0mlabels_\u001b[0m\u001b[1;33m,\u001b[0m\u001b[0mmetric\u001b[0m\u001b[1;33m=\u001b[0m\u001b[1;34m'euclidean'\u001b[0m\u001b[1;33m)\u001b[0m\u001b[1;33m\u001b[0m\u001b[1;33m\u001b[0m\u001b[0m\n",
      "\u001b[1;31mNameError\u001b[0m: name 'PCA_components' is not defined"
     ]
    }
   ],
   "source": [
    "import numpy as np\n",
    "import matplotlib.pyplot as plt\n",
    "from sklearn.cluster import KMeans\n",
    "from sklearn.metrics import  silhouette_score\n",
    "import gower\n",
    "# k_cand = list(np.arange(5,100,5))\n",
    "# k_cand.extend(list(np.arange(100,500,50)))\n",
    "\n",
    "k_cand = list(np.arange(2,20))\n",
    "# k_cand.extend(list(np.arange(100,500,50)))\n",
    "\n",
    "# for features in range(1,20):\n",
    "for features in range(1,5):\n",
    "    results = dict()\n",
    "    \n",
    "    for k in k_cand:\n",
    "\n",
    "        kmeans = KMeans(n_clusters=k)\n",
    "        kmeans.fit_predict(PCA_components.iloc[:,:features])\n",
    "        score0 = kmeans.inertia_\n",
    "        score1 = silhouette_score(PCA_components.iloc[:,:features],kmeans.labels_,metric='euclidean')\n",
    "        score2 = silhouette_score(PCA_components.iloc[:,:features],kmeans.labels_,metric='correlation')\n",
    "        score3 = silhouette_score(PCA_components.iloc[:,:features],kmeans.labels_,metric='manhattan')\n",
    "        # score4 = silhouette_score(PCA_components.iloc[:,:features],kmeans.labels_,metric=gower)\n",
    "        results[k] = {'k':kmeans,'s0':score0,'s1':score1,'s2':score2,'s3':score3}\n",
    "\n",
    "    fig,axs = plt.subplots(2,1,sharex=True,figsize=(16,8))\n",
    "    plt.title('features '+ str(features))\n",
    "    axs[0].plot([i for i in results.keys()],[i['s0'] for i in results.values()],'o-',label='Inertia')\n",
    "    axs[1].plot([i for i in results.keys()],[i['s1'] for i in results.values()],'o-',label='euclidean')\n",
    "    axs[1].plot([i for i in results.keys()],[i['s2'] for i in results.values()],'o-',label='Correlation')\n",
    "    axs[1].plot([i for i in results.keys()],[i['s3'] for i in results.values()],'o-',label='Manhattan')\n",
    "    # axs[1].plot([i for i in results.keys()],[i['s4'] for i in results.values()],'o-',label='Gower')\n",
    "    for ax in axs:\n",
    "        ax.set_xticks(k_cand)\n",
    "        ax.set_xlabel('K')\n",
    "        ax.legend()\n",
    "\n",
    "    plt.savefig(\"features-minmax-scale\"+str(features)+\".png\") \n",
    "    plt.show()"
   ]
  },
  {
   "cell_type": "code",
   "execution_count": 28,
   "metadata": {},
   "outputs": [],
   "source": [
    "dataset = dataset.merge(Y, how='inner', on=[\"year\",\"country\"])"
   ]
  },
  {
   "cell_type": "code",
   "execution_count": null,
   "metadata": {},
   "outputs": [],
   "source": [
    "dataset"
   ]
  },
  {
   "cell_type": "code",
   "execution_count": 39,
   "metadata": {},
   "outputs": [],
   "source": [
    "checkingMatrix = dataset.iloc[:,-10:]"
   ]
  },
  {
   "cell_type": "code",
   "execution_count": 29,
   "metadata": {},
   "outputs": [],
   "source": [
    "import datetime\n",
    "x = datetime.datetime.now()\n",
    "dataset.to_csv(str(x.strftime(\"%Y%m%d\"))+\"cluster.csv\")"
   ]
  },
  {
   "cell_type": "code",
   "execution_count": 33,
   "metadata": {},
   "outputs": [
    {
     "data": {
      "image/png": "[encoded data removed]",
      "text/plain": [
       "<Figure size 432x288 with 1 Axes>"
      ]
     },
     "metadata": {
      "needs_background": "light"
     },
     "output_type": "display_data"
    }
   ],
   "source": []
  },
  {
   "cell_type": "code",
   "execution_count": 55,
   "metadata": {},
   "outputs": [
    {
     "data": {
      "image/png": "[encoded data removed]",
      "text/plain": [
       "<Figure size 432x288 with 1 Axes>"
      ]
     },
     "metadata": {
      "needs_background": "light"
     },
     "output_type": "display_data"
    },
    {
     "name": "stdout",
     "output_type": "stream",
     "text": [
      "LeveneResult(statistic=101.2174309813332, pvalue=1.6535047387767613e-143)\n",
      "NormaltestResult(statistic=376.99038381266774, pvalue=1.3727083953248806e-82) LeveneResult(statistic=101.2174309813332, pvalue=1.6535047387767613e-143)\n",
      "LeveneResult(statistic=172.75634326033457, pvalue=9.730323902160833e-39)\n",
      "Compare v2x_libdem, of cluster 0  against: 1 : Ttest_indResult(statistic=-18.91815186127821, pvalue=7.999242172564416e-77)\n",
      "\n",
      "LeveneResult(statistic=23.545947509312242, pvalue=1.3168253819091915e-06)\n",
      "Compare v2x_libdem, of cluster 0  against: 2 : Ttest_indResult(statistic=-4.474360229149568, pvalue=8.107284058014214e-06)\n",
      "\n",
      "LeveneResult(statistic=169.98604053757919, pvalue=1.5652042830402001e-37)\n",
      "Compare v2x_libdem, of cluster 0  against: 3 : Ttest_indResult(statistic=-26.203481958410443, pvalue=1.4175492747873408e-132)\n",
      "\n",
      "LeveneResult(statistic=3.615044096153459, pvalue=0.05741554331474952)\n",
      "Compare v2x_libdem, of cluster 0  against: 4 : Ttest_indResult(statistic=-7.542241202838989, pvalue=7.220626422203292e-14)\n",
      "\n",
      "LeveneResult(statistic=110.32979431999664, pvalue=1.893002203403743e-25)\n",
      "Compare v2x_libdem, of cluster 0  against: 5 : Ttest_indResult(statistic=-10.502133772877922, pvalue=1.9257141098892156e-25)\n",
      "\n",
      "LeveneResult(statistic=464.57093495305867, pvalue=2.8906029529285983e-95)\n",
      "Compare v2x_libdem, of cluster 0  against: 6 : Ttest_indResult(statistic=-25.34117955483033, pvalue=2.2096053845976645e-127)\n",
      "\n",
      "LeveneResult(statistic=3.1444497522660493, pvalue=0.07627086299110498)\n",
      "Compare v2x_libdem, of cluster 0  against: 7 : Ttest_indResult(statistic=-10.69031938619326, pvalue=2.8081811911260134e-26)\n",
      "\n",
      "\n",
      "NormaltestResult(statistic=1656.8796852097257, pvalue=0.0) LeveneResult(statistic=101.2174309813332, pvalue=1.6535047387767613e-143)\n",
      "LeveneResult(statistic=172.75634326033457, pvalue=9.730323902160833e-39)\n",
      "Compare v2x_libdem, of cluster 1  against: 0 : Ttest_indResult(statistic=18.91815186127821, pvalue=7.999242172564416e-77)\n",
      "\n",
      "LeveneResult(statistic=0.38405584240434876, pvalue=0.535490532740762)\n",
      "Compare v2x_libdem, of cluster 1  against: 2 : Ttest_indResult(statistic=2.915370103015275, pvalue=0.0035806174838423454)\n",
      "\n",
      "LeveneResult(statistic=59.76220066204043, pvalue=1.426853994526894e-14)\n",
      "Compare v2x_libdem, of cluster 1  against: 3 : Ttest_indResult(statistic=-14.369355189969607, pvalue=2.0875124916779785e-45)\n",
      "\n",
      "LeveneResult(statistic=37.300309739752024, pvalue=1.1573228026585117e-09)\n",
      "Compare v2x_libdem, of cluster 1  against: 4 : Ttest_indResult(statistic=-2.2967011911275708, pvalue=0.02171150310967427)\n",
      "\n",
      "LeveneResult(statistic=2.5347120373286334, pvalue=0.1114364393422959)\n",
      "Compare v2x_libdem, of cluster 1  against: 5 : Ttest_indResult(statistic=6.240772869534536, pvalue=4.748989630101565e-10)\n",
      "\n",
      "LeveneResult(statistic=228.29903692003865, pvalue=4.639500238503192e-50)\n",
      "Compare v2x_libdem, of cluster 1  against: 6 : Ttest_indResult(statistic=-12.064425549896272, pvalue=6.946125903115474e-33)\n",
      "\n",
      "LeveneResult(statistic=189.87767270773836, pvalue=2.4691347419222125e-42)\n",
      "Compare v2x_libdem, of cluster 1  against: 7 : Ttest_indResult(statistic=9.215279058571657, pvalue=4.6735977121285916e-20)\n",
      "\n",
      "\n",
      "NormaltestResult(statistic=24.75516899874721, pvalue=4.211951411991627e-06) LeveneResult(statistic=101.2174309813332, pvalue=1.6535047387767613e-143)\n",
      "LeveneResult(statistic=23.545947509312242, pvalue=1.3168253819091915e-06)\n",
      "Compare v2x_libdem, of cluster 2  against: 0 : Ttest_indResult(statistic=4.474360229149568, pvalue=8.107284058014214e-06)\n",
      "\n",
      "LeveneResult(statistic=0.38405584240434876, pvalue=0.535490532740762)\n",
      "Compare v2x_libdem, of cluster 2  against: 1 : Ttest_indResult(statistic=-2.915370103015275, pvalue=0.0035806174838423454)\n",
      "\n",
      "LeveneResult(statistic=9.763677335639521, pvalue=0.0018554079780916206)\n",
      "Compare v2x_libdem, of cluster 2  against: 3 : Ttest_indResult(statistic=-9.086319354207125, pvalue=1.0964886354524437e-18)\n",
      "\n",
      "LeveneResult(statistic=27.964221021818332, pvalue=2.8624584360594733e-07)\n",
      "Compare v2x_libdem, of cluster 2  against: 4 : Ttest_indResult(statistic=-3.807402836171841, pvalue=0.00017997525317469887)\n",
      "\n",
      "LeveneResult(statistic=0.010352494583089787, pvalue=0.9189671502285924)\n",
      "Compare v2x_libdem, of cluster 2  against: 5 : Ttest_indResult(statistic=-0.3580745629660938, pvalue=0.7203239008522447)\n",
      "\n",
      "LeveneResult(statistic=49.44306405910648, pvalue=3.5517864948368696e-12)\n",
      "Compare v2x_libdem, of cluster 2  against: 6 : Ttest_indResult(statistic=-7.119006303264663, pvalue=1.9426209496798623e-12)\n",
      "\n",
      "LeveneResult(statistic=40.97766488427408, pvalue=1.9200426629943882e-10)\n",
      "Compare v2x_libdem, of cluster 2  against: 7 : Ttest_indResult(statistic=0.40784948154311534, pvalue=0.6834285697817613)\n",
      "\n",
      "\n",
      "NormaltestResult(statistic=10638.10103612032, pvalue=0.0) LeveneResult(statistic=101.2174309813332, pvalue=1.6535047387767613e-143)\n",
      "LeveneResult(statistic=169.98604053757919, pvalue=1.5652042830402001e-37)\n",
      "Compare v2x_libdem, of cluster 3  against: 0 : Ttest_indResult(statistic=26.203481958410443, pvalue=1.4175492747873408e-132)\n",
      "\n",
      "LeveneResult(statistic=59.76220066204043, pvalue=1.426853994526894e-14)\n",
      "Compare v2x_libdem, of cluster 3  against: 1 : Ttest_indResult(statistic=14.369355189969607, pvalue=2.0875124916779785e-45)\n",
      "\n",
      "LeveneResult(statistic=9.763677335639521, pvalue=0.0018554079780916206)\n",
      "Compare v2x_libdem, of cluster 3  against: 2 : Ttest_indResult(statistic=9.086319354207125, pvalue=1.0964886354524437e-18)\n",
      "\n",
      "LeveneResult(statistic=54.34361842741272, pvalue=5.894012186087623e-13)\n",
      "Compare v2x_libdem, of cluster 3  against: 4 : Ttest_indResult(statistic=2.7493127325743965, pvalue=0.0061598024892484575)\n",
      "\n",
      "LeveneResult(statistic=17.16654614089994, pvalue=3.541676209212925e-05)\n",
      "Compare v2x_libdem, of cluster 3  against: 5 : Ttest_indResult(statistic=15.940536184992359, pvalue=1.7776001838990974e-54)\n",
      "\n",
      "LeveneResult(statistic=8.311325342778645, pvalue=0.0039975634916833746)\n",
      "Compare v2x_libdem, of cluster 3  against: 6 : Ttest_indResult(statistic=3.434581937637325, pvalue=0.000610091196405614)\n",
      "\n",
      "LeveneResult(statistic=281.4152243776279, pvalue=1.0860686516806311e-59)\n",
      "Compare v2x_libdem, of cluster 3  against: 7 : Ttest_indResult(statistic=21.892803412361996, pvalue=1.0562506760296116e-96)\n",
      "\n",
      "\n",
      "NormaltestResult(statistic=3.7754312955981737, pvalue=0.15141730452205648) LeveneResult(statistic=101.2174309813332, pvalue=1.6535047387767613e-143)\n",
      "LeveneResult(statistic=3.615044096153459, pvalue=0.05741554331474952)\n",
      "Compare v2x_libdem, of cluster 4  against: 0 : Ttest_indResult(statistic=7.542241202838989, pvalue=7.220626422203292e-14)\n",
      "\n",
      "LeveneResult(statistic=37.300309739752024, pvalue=1.1573228026585117e-09)\n",
      "Compare v2x_libdem, of cluster 4  against: 1 : Ttest_indResult(statistic=2.2967011911275708, pvalue=0.02171150310967427)\n",
      "\n",
      "LeveneResult(statistic=27.964221021818332, pvalue=2.8624584360594733e-07)\n",
      "Compare v2x_libdem, of cluster 4  against: 2 : Ttest_indResult(statistic=3.807402836171841, pvalue=0.00017997525317469887)\n",
      "\n",
      "LeveneResult(statistic=54.34361842741272, pvalue=5.894012186087623e-13)\n",
      "Compare v2x_libdem, of cluster 4  against: 3 : Ttest_indResult(statistic=-2.7493127325743965, pvalue=0.0061598024892484575)\n",
      "\n",
      "LeveneResult(statistic=15.888702362282572, pvalue=6.962700887186284e-05)\n",
      "Compare v2x_libdem, of cluster 4  against: 5 : Ttest_indResult(statistic=3.3888736310092553, pvalue=0.0007156274589933344)\n",
      "\n",
      "LeveneResult(statistic=184.7485589640753, pvalue=9.189519865590358e-39)\n",
      "Compare v2x_libdem, of cluster 4  against: 6 : Ttest_indResult(statistic=-1.2549288016007822, pvalue=0.20979519072398492)\n",
      "\n",
      "LeveneResult(statistic=13.236500291024404, pvalue=0.0002820360152392967)\n",
      "Compare v2x_libdem, of cluster 4  against: 7 : Ttest_indResult(statistic=5.5918405248429215, pvalue=2.5797051010977682e-08)\n",
      "\n",
      "\n",
      "NormaltestResult(statistic=594.3645472178162, pvalue=8.617443649567274e-130) LeveneResult(statistic=101.2174309813332, pvalue=1.6535047387767613e-143)\n",
      "LeveneResult(statistic=110.32979431999664, pvalue=1.893002203403743e-25)\n",
      "Compare v2x_libdem, of cluster 5  against: 0 : Ttest_indResult(statistic=10.502133772877922, pvalue=1.9257141098892156e-25)\n",
      "\n",
      "LeveneResult(statistic=2.5347120373286334, pvalue=0.1114364393422959)\n",
      "Compare v2x_libdem, of cluster 5  against: 1 : Ttest_indResult(statistic=-6.240772869534536, pvalue=4.748989630101565e-10)\n",
      "\n",
      "LeveneResult(statistic=0.010352494583089787, pvalue=0.9189671502285924)\n",
      "Compare v2x_libdem, of cluster 5  against: 2 : Ttest_indResult(statistic=0.3580745629660938, pvalue=0.7203239008522447)\n",
      "\n",
      "LeveneResult(statistic=17.16654614089994, pvalue=3.541676209212925e-05)\n",
      "Compare v2x_libdem, of cluster 5  against: 3 : Ttest_indResult(statistic=-15.940536184992359, pvalue=1.7776001838990974e-54)\n",
      "\n",
      "LeveneResult(statistic=15.888702362282572, pvalue=6.962700887186284e-05)\n",
      "Compare v2x_libdem, of cluster 5  against: 4 : Ttest_indResult(statistic=-3.3888736310092553, pvalue=0.0007156274589933344)\n",
      "\n",
      "LeveneResult(statistic=70.51840202882846, pvalue=7.084002482241084e-17)\n",
      "Compare v2x_libdem, of cluster 5  against: 6 : Ttest_indResult(statistic=-14.699562457346653, pvalue=3.3011876198370075e-47)\n",
      "\n",
      "LeveneResult(statistic=109.89256746624712, pvalue=2.3334382233466233e-25)\n",
      "Compare v2x_libdem, of cluster 5  against: 7 : Ttest_indResult(statistic=1.8207155280021827, pvalue=0.06873071670508406)\n",
      "\n",
      "\n",
      "NormaltestResult(statistic=4579.94577444167, pvalue=0.0) LeveneResult(statistic=101.2174309813332, pvalue=1.6535047387767613e-143)\n",
      "LeveneResult(statistic=464.57093495305867, pvalue=2.8906029529285983e-95)\n",
      "Compare v2x_libdem, of cluster 6  against: 0 : Ttest_indResult(statistic=25.34117955483033, pvalue=2.2096053845976645e-127)\n",
      "\n",
      "LeveneResult(statistic=228.29903692003865, pvalue=4.639500238503192e-50)\n",
      "Compare v2x_libdem, of cluster 6  against: 1 : Ttest_indResult(statistic=12.064425549896272, pvalue=6.946125903115474e-33)\n",
      "\n",
      "LeveneResult(statistic=49.44306405910648, pvalue=3.5517864948368696e-12)\n",
      "Compare v2x_libdem, of cluster 6  against: 2 : Ttest_indResult(statistic=7.119006303264663, pvalue=1.9426209496798623e-12)\n",
      "\n",
      "LeveneResult(statistic=8.311325342778645, pvalue=0.0039975634916833746)\n",
      "Compare v2x_libdem, of cluster 6  against: 3 : Ttest_indResult(statistic=-3.434581937637325, pvalue=0.000610091196405614)\n",
      "\n",
      "LeveneResult(statistic=184.7485589640753, pvalue=9.189519865590358e-39)\n",
      "Compare v2x_libdem, of cluster 6  against: 4 : Ttest_indResult(statistic=1.2549288016007822, pvalue=0.20979519072398492)\n",
      "\n",
      "LeveneResult(statistic=70.51840202882846, pvalue=7.084002482241084e-17)\n",
      "Compare v2x_libdem, of cluster 6  against: 5 : Ttest_indResult(statistic=14.699562457346653, pvalue=3.3011876198370075e-47)\n",
      "\n",
      "LeveneResult(statistic=841.2662150698114, pvalue=1.410840194970686e-161)\n",
      "Compare v2x_libdem, of cluster 6  against: 7 : Ttest_indResult(statistic=19.346533314338345, pvalue=2.818836940082347e-78)\n",
      "\n",
      "\n",
      "NormaltestResult(statistic=148.08253410741943, pvalue=6.986928282470602e-33) LeveneResult(statistic=101.2174309813332, pvalue=1.6535047387767613e-143)\n",
      "LeveneResult(statistic=3.1444497522660493, pvalue=0.07627086299110498)\n",
      "Compare v2x_libdem, of cluster 7  against: 0 : Ttest_indResult(statistic=10.69031938619326, pvalue=2.8081811911260134e-26)\n",
      "\n",
      "LeveneResult(statistic=189.87767270773836, pvalue=2.4691347419222125e-42)\n",
      "Compare v2x_libdem, of cluster 7  against: 1 : Ttest_indResult(statistic=-9.215279058571657, pvalue=4.6735977121285916e-20)\n",
      "\n",
      "LeveneResult(statistic=40.97766488427408, pvalue=1.9200426629943882e-10)\n",
      "Compare v2x_libdem, of cluster 7  against: 2 : Ttest_indResult(statistic=-0.40784948154311534, pvalue=0.6834285697817613)\n",
      "\n",
      "LeveneResult(statistic=281.4152243776279, pvalue=1.0860686516806311e-59)\n",
      "Compare v2x_libdem, of cluster 7  against: 3 : Ttest_indResult(statistic=-21.892803412361996, pvalue=1.0562506760296116e-96)\n",
      "\n",
      "LeveneResult(statistic=13.236500291024404, pvalue=0.0002820360152392967)\n",
      "Compare v2x_libdem, of cluster 7  against: 4 : Ttest_indResult(statistic=-5.5918405248429215, pvalue=2.5797051010977682e-08)\n",
      "\n",
      "LeveneResult(statistic=109.89256746624712, pvalue=2.3334382233466233e-25)\n",
      "Compare v2x_libdem, of cluster 7  against: 5 : Ttest_indResult(statistic=-1.8207155280021827, pvalue=0.06873071670508406)\n",
      "\n",
      "LeveneResult(statistic=841.2662150698114, pvalue=1.410840194970686e-161)\n",
      "Compare v2x_libdem, of cluster 7  against: 6 : Ttest_indResult(statistic=-19.346533314338345, pvalue=2.818836940082347e-78)\n",
      "\n",
      "\n"
     ]
    },
    {
     "data": {
      "text/plain": [
       "[[(2.8081811911260134e-26, 0.07627086299110498),\n",
       "  (4.6735977121285916e-20, 2.4691347419222125e-42),\n",
       "  (0.6834285697817613, 1.9200426629943882e-10),\n",
       "  (1.0562506760296116e-96, 1.0860686516806311e-59),\n",
       "  (2.5797051010977682e-08, 0.0002820360152392967),\n",
       "  (0.06873071670508406, 2.3334382233466233e-25),\n",
       "  (2.818836940082347e-78, 1.410840194970686e-161),\n",
       "  1,\n",
       "  0],\n",
       " [(2.8081811911260134e-26, 0.07627086299110498),\n",
       "  (4.6735977121285916e-20, 2.4691347419222125e-42),\n",
       "  (0.6834285697817613, 1.9200426629943882e-10),\n",
       "  (1.0562506760296116e-96, 1.0860686516806311e-59),\n",
       "  (2.5797051010977682e-08, 0.0002820360152392967),\n",
       "  (0.06873071670508406, 2.3334382233466233e-25),\n",
       "  (2.818836940082347e-78, 1.410840194970686e-161),\n",
       "  1,\n",
       "  0],\n",
       " [(2.8081811911260134e-26, 0.07627086299110498),\n",
       "  (4.6735977121285916e-20, 2.4691347419222125e-42),\n",
       "  (0.6834285697817613, 1.9200426629943882e-10),\n",
       "  (1.0562506760296116e-96, 1.0860686516806311e-59),\n",
       "  (2.5797051010977682e-08, 0.0002820360152392967),\n",
       "  (0.06873071670508406, 2.3334382233466233e-25),\n",
       "  (2.818836940082347e-78, 1.410840194970686e-161),\n",
       "  1,\n",
       "  0],\n",
       " [(2.8081811911260134e-26, 0.07627086299110498),\n",
       "  (4.6735977121285916e-20, 2.4691347419222125e-42),\n",
       "  (0.6834285697817613, 1.9200426629943882e-10),\n",
       "  (1.0562506760296116e-96, 1.0860686516806311e-59),\n",
       "  (2.5797051010977682e-08, 0.0002820360152392967),\n",
       "  (0.06873071670508406, 2.3334382233466233e-25),\n",
       "  (2.818836940082347e-78, 1.410840194970686e-161),\n",
       "  1,\n",
       "  0],\n",
       " [(2.8081811911260134e-26, 0.07627086299110498),\n",
       "  (4.6735977121285916e-20, 2.4691347419222125e-42),\n",
       "  (0.6834285697817613, 1.9200426629943882e-10),\n",
       "  (1.0562506760296116e-96, 1.0860686516806311e-59),\n",
       "  (2.5797051010977682e-08, 0.0002820360152392967),\n",
       "  (0.06873071670508406, 2.3334382233466233e-25),\n",
       "  (2.818836940082347e-78, 1.410840194970686e-161),\n",
       "  1,\n",
       "  0],\n",
       " [(2.8081811911260134e-26, 0.07627086299110498),\n",
       "  (4.6735977121285916e-20, 2.4691347419222125e-42),\n",
       "  (0.6834285697817613, 1.9200426629943882e-10),\n",
       "  (1.0562506760296116e-96, 1.0860686516806311e-59),\n",
       "  (2.5797051010977682e-08, 0.0002820360152392967),\n",
       "  (0.06873071670508406, 2.3334382233466233e-25),\n",
       "  (2.818836940082347e-78, 1.410840194970686e-161),\n",
       "  1,\n",
       "  0],\n",
       " [(2.8081811911260134e-26, 0.07627086299110498),\n",
       "  (4.6735977121285916e-20, 2.4691347419222125e-42),\n",
       "  (0.6834285697817613, 1.9200426629943882e-10),\n",
       "  (1.0562506760296116e-96, 1.0860686516806311e-59),\n",
       "  (2.5797051010977682e-08, 0.0002820360152392967),\n",
       "  (0.06873071670508406, 2.3334382233466233e-25),\n",
       "  (2.818836940082347e-78, 1.410840194970686e-161),\n",
       "  1,\n",
       "  0],\n",
       " [(2.8081811911260134e-26, 0.07627086299110498),\n",
       "  (4.6735977121285916e-20, 2.4691347419222125e-42),\n",
       "  (0.6834285697817613, 1.9200426629943882e-10),\n",
       "  (1.0562506760296116e-96, 1.0860686516806311e-59),\n",
       "  (2.5797051010977682e-08, 0.0002820360152392967),\n",
       "  (0.06873071670508406, 2.3334382233466233e-25),\n",
       "  (2.818836940082347e-78, 1.410840194970686e-161),\n",
       "  1,\n",
       "  0],\n",
       " [(2.8081811911260134e-26, 0.07627086299110498),\n",
       "  (4.6735977121285916e-20, 2.4691347419222125e-42),\n",
       "  (0.6834285697817613, 1.9200426629943882e-10),\n",
       "  (1.0562506760296116e-96, 1.0860686516806311e-59),\n",
       "  (2.5797051010977682e-08, 0.0002820360152392967),\n",
       "  (0.06873071670508406, 2.3334382233466233e-25),\n",
       "  (2.818836940082347e-78, 1.410840194970686e-161),\n",
       "  1,\n",
       "  0]]"
      ]
     },
     "execution_count": 55,
     "metadata": {},
     "output_type": "execute_result"
    }
   ],
   "source": [
    "import scipy.stats as scStat\n",
    "\n",
    "setToCompare = \"gmmLabels-84\"\n",
    "clusters = len(checkingMatrix[setToCompare].unique())\n",
    "democracyScore = \"v2x_libdem\"\n",
    "\n",
    "clusters = len(checkingMatrix[setToCompare].unique())\n",
    "\n",
    "bars = [np.mean(checkingMatrix[checkingMatrix[setToCompare]==i][democracyScore].dropna().values) for i in range(clusters)]\n",
    "plt.bar(range(clusters),bars)\n",
    "plt.xticks(range(clusters))\n",
    "plt.show()\n",
    "\n",
    "\n",
    "# zeroArray = np.zeros((clusters+1,clusters+1))\n",
    "zeroArray = [[0]*(clusters+1)]*(clusters+1)\n",
    "\n",
    "barlett = [checkingMatrix[checkingMatrix[setToCompare]==i][democracyScore].dropna().values for i in range(clusters)]\n",
    "barlettTest = scStat.levene(*barlett)\n",
    "\n",
    "print(barlettTest)\n",
    "\n",
    "for i in range(clusters):\n",
    "    # print(len(checkingMatrix[checkingMatrix[setToCompare]==i][\"v2x_partipdem\"]))\n",
    "    compareSet = checkingMatrix[checkingMatrix[setToCompare]==i][democracyScore].dropna().values\n",
    "    if len(compareSet) > 8:\n",
    "        normality_v2X_PartiDem = scStat.normaltest(compareSet)\n",
    "        print(normality_v2X_PartiDem, barlettTest)\n",
    "        for z in range(clusters):\n",
    "            tTest = 0\n",
    "            if i != z:\n",
    "                compareSet2 = checkingMatrix[checkingMatrix[setToCompare]==z][democracyScore].dropna().values\n",
    "                levene = scStat.levene(compareSet,compareSet2)\n",
    "                print(levene)\n",
    "\n",
    "                if len(compareSet2) > 8:\n",
    "                    tTest = scStat.ttest_ind(compareSet,compareSet2)\n",
    "                    zeroArray[i][z] = (tTest[1], levene[1])\n",
    "                    print(\"Compare \"+ democracyScore +\", of cluster\", i, \" against:\", z, \":\", tTest)\n",
    "                    print(\"\")\n",
    "            else:\n",
    "                zeroArray[i][z] = 1\n",
    "    print(\"\")\n",
    "\n",
    "zeroArray"
   ]
  }
 ],
 "metadata": {
  "interpreter": {
   "hash": "6744874b6b7d4c11632f5c57904f17b16032f5dfc2e35ec68085b9c698263a2f"
  },
  "kernelspec": {
   "display_name": "Python 3.8.12 ('thesisProject')",
   "language": "python",
   "name": "python3"
  },
  "language_info": {
   "codemirror_mode": {
    "name": "ipython",
    "version": 3
   },
   "file_extension": ".py",
   "mimetype": "text/x-python",
   "name": "python",
   "nbconvert_exporter": "python",
   "pygments_lexer": "ipython3",
   "version": "3.8.12"
  },
  "orig_nbformat": 4
 },
 "nbformat": 4,
 "nbformat_minor": 2
}
