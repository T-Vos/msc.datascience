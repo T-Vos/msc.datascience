{
 "cells": [
  {
   "cell_type": "code",
   "execution_count": 1,
   "metadata": {},
   "outputs": [],
   "source": [
    "import pandas as pd\n",
    "import numpy as np"
   ]
  },
  {
   "cell_type": "code",
   "execution_count": 2,
   "metadata": {},
   "outputs": [],
   "source": [
    "education = pd.read_csv(\"../Data/WorldBank/Education_WB/edData.csv\")\n",
    "educationSimple = pd.read_csv(\"../Data/WorldBank/WB_Edu_simple/646c5220-17f9-41f4-b39f-0f8c34130df6_Data.csv\")\n",
    "gdpInvestment = pd.read_csv(\"../Data/WorldBank/GDP-Investment_WB/9570f3c5-6012-43e4-980d-8ea2ece70445_Data.csv\")\n",
    "childMortality = pd.read_csv(\"../Data/WorldBank/childMortality_WB/8a867181-d49e-48fc-b846-4dc5e7550807_Data.csv\")\n",
    "taxes = pd.read_csv(\"../Data/WorldBank/WB_taxesOfGDP/a77adba3-031c-495c-a100-610c369cdff7_Data.csv\")\n"
   ]
  },
  {
   "cell_type": "code",
   "execution_count": 3,
   "metadata": {},
   "outputs": [],
   "source": [
    "literacy = pd.read_csv(\"../Data/cross-country-literacy-rates.csv\")"
   ]
  },
  {
   "cell_type": "code",
   "execution_count": 4,
   "metadata": {},
   "outputs": [],
   "source": [
    "govExpend = pd.read_excel(\"../Data/IMF/gov_exp_GDP.xls\")\n",
    "govRevenue = pd.read_excel(\"../Data/IMF/govRevenuePercOfGDP.xls\")\n",
    "govDebt = pd.read_excel(\"../Data/IMF/debtPercOfGDP.xls\")"
   ]
  },
  {
   "cell_type": "code",
   "execution_count": 5,
   "metadata": {},
   "outputs": [],
   "source": [
    "wb_dict = dict(zip(education['Country Name'], education['Country Code']))"
   ]
  },
  {
   "cell_type": "code",
   "execution_count": 6,
   "metadata": {},
   "outputs": [],
   "source": [
    "auxillaryDictionary = {\n",
    "    \"China, People's Republic of\":'CHN',\n",
    "    \"Congo, Dem. Rep. of the\":'COD',\n",
    "    \"Congo, Republic of\":'COG',\n",
    "    \"Congo, Republic of \":'COG',\n",
    "    \"Côte d'Ivoire\": 'CIV',\n",
    "    \"Egypt\":'EGY',\n",
    "    \"Hong Kong SAR\":'HKG',\n",
    "    \"Iran\":'IRN',\n",
    "    \"Korea, Republic of\":'KOR',\n",
    "    \"Lao P.D.R.\":\"LAO\",\n",
    "    \"North Macedonia\":\"MKD\",\n",
    "    \"North Macedonia \":\"MKD\",\n",
    "    \"Saint Vincent and the Grenadines\":\"VCT\",\n",
    "    \"South Sudan, Republic of\":'SSD',\n",
    "    'Syria':\"SYR\",\n",
    "    'São Tomé and Príncipe':'STP',\n",
    "    'Venezuela':'VEN',\n",
    "    'Yemen':'Yem',\n",
    "    'Timor':'TLS',\n",
    "    'Brunei'\t:'BRN'\n",
    "}"
   ]
  },
  {
   "cell_type": "code",
   "execution_count": 7,
   "metadata": {},
   "outputs": [],
   "source": [
    "worldBankPlusDictionary = { **auxillaryDictionary, **wb_dict}"
   ]
  },
  {
   "cell_type": "code",
   "execution_count": 8,
   "metadata": {},
   "outputs": [],
   "source": [
    "def imf_set_transposer(imf_data_set):\n",
    "    imf_data_set.iloc[:,0]  = imf_data_set.iloc[:,0].replace(worldBankPlusDictionary)\n",
    "    transposed = imf_data_set.T\n",
    "    result = []\n",
    "    listName = (transposed.iloc[0].name).replace(\"%\",\"perc\")\n",
    "    listName = listName.replace(\" \",\"_\")\n",
    "    for country in transposed:\n",
    "        for (year, value) in enumerate(transposed.iloc[1:,country]):\n",
    "            yearPublish = year+1800\n",
    "            countryISO = transposed.iloc[0,country]\n",
    "            if value ==\"no data\": value = np.NaN\n",
    "            result.append({\n",
    "                    'year':yearPublish,\n",
    "                    'country':countryISO,\n",
    "                    listName:value,\n",
    "            })\n",
    "    return pd.DataFrame(result)\n"
   ]
  },
  {
   "cell_type": "code",
   "execution_count": 9,
   "metadata": {},
   "outputs": [],
   "source": [
    "def drop_non_year_column(titles):\n",
    "    # Get Years in dataset\n",
    "    drops = []\n",
    "    for title in titles:\n",
    "        if not title.isdigit() : drops.append(title)\n",
    "    return drops\n",
    "\n",
    "def cut_year_title_down(title):\n",
    "    # world bank columns end with [YRxxxx] EG: 1970 [YR1970]\n",
    "    # This can be cut a way easily\n",
    "    if title[0].isdigit() : title = title[0:4]\n",
    "    return title\n",
    "\n",
    "def transpose_world_bank_data(worldBankData):\n",
    "    result = []\n",
    "    \n",
    "    worldBankData = pd.DataFrame(worldBankData)\n",
    "    worldBankData.columns = [cut_year_title_down(x) for x in worldBankData.columns]\n",
    "\n",
    "    years = worldBankData.columns.drop(labels=drop_non_year_column(worldBankData.columns))\n",
    "    grouped = worldBankData.groupby(\"Series Code\")\n",
    "    for (name, group) in grouped.__iter__():\n",
    "        transposed = group.transpose()\n",
    "        Resgrouped = []\n",
    "        \n",
    "        for (country) in transposed[:3]:\n",
    "            countryData = transposed[country]\n",
    "            for year in years:\n",
    "                Resgrouped.append({\n",
    "                    'year':int(year),\n",
    "                    'country':countryData[\"Country Code\"],\n",
    "                    name:countryData[year],\n",
    "                    })\n",
    "\n",
    "        if len(result) > 0: \n",
    "            result = pd.DataFrame(result)\n",
    "            new = pd.DataFrame(Resgrouped)\n",
    "            result= result.merge(new, on=[\"year\",\"country\"], how=\"outer\", sort=True)\n",
    "        else:\n",
    "            result = pd.DataFrame(Resgrouped)\n",
    "    return result"
   ]
  },
  {
   "cell_type": "code",
   "execution_count": 10,
   "metadata": {},
   "outputs": [],
   "source": [
    "education_data = transpose_world_bank_data(education)\n",
    "\n",
    "gdpInvestment_data = transpose_world_bank_data(gdpInvestment)\n",
    "total = education_data.merge(gdpInvestment_data, on=[\"year\",\"country\"], how=\"outer\", sort=True)\n",
    "\n",
    "govExpend_data = imf_set_transposer(govExpend)\n",
    "total = total.merge(govExpend_data, on=[\"year\",\"country\"], how=\"left\", sort=True)\n",
    "\n",
    "govRevenue_data = imf_set_transposer(govRevenue)\n",
    "total = total.merge(govRevenue_data, on=[\"year\",\"country\"], how=\"left\", sort=True)\n",
    "\n",
    "govDebt_data = imf_set_transposer(govDebt)\n",
    "total = total.merge(govDebt_data, on=[\"year\",\"country\"], how=\"left\", sort=True)\n",
    "\n",
    "educationSimple_data = transpose_world_bank_data(educationSimple)\n",
    "total = total.merge(educationSimple_data, on=[\"year\",\"country\"], how=\"outer\", sort=True)\n",
    "\n",
    "childMortality_data = transpose_world_bank_data(childMortality)\n",
    "total = total.merge(childMortality_data, on=[\"year\",\"country\"], how=\"outer\", sort=True)\n",
    "\n",
    "taxes_data = transpose_world_bank_data(taxes)\n",
    "total = total.merge(taxes_data, on=[\"year\",\"country\"], how=\"outer\", sort=True)\n"
   ]
  },
  {
   "cell_type": "code",
   "execution_count": 11,
   "metadata": {},
   "outputs": [],
   "source": [
    "def fitLiteracyForEachYear(literacySet,minYear=1960, maxYear=2021):\n",
    "    grouped = literacySet.groupby(\"Code\")\n",
    "    results = []\n",
    "    for (name, group) in grouped.__iter__():\n",
    "        year = group.iloc[:,2]\n",
    "        score = group.iloc[:,3]\n",
    "        m,b = np.polyfit(year, score, 1)\n",
    "        for yearToCheck in range(minYear, (maxYear+1), 1):\n",
    "            score = m * yearToCheck + b\n",
    "            results.append({\n",
    "                'year':int(yearToCheck),\n",
    "                'literacy':np.clip(score,0,100),\n",
    "                'country':name\n",
    "            })\n",
    "    return pd.DataFrame(results)\n"
   ]
  },
  {
   "cell_type": "code",
   "execution_count": 12,
   "metadata": {},
   "outputs": [],
   "source": [
    "import warnings\n",
    "warnings.filterwarnings(\"ignore\")\n",
    "literacy_data = fitLiteracyForEachYear(literacy, total[\"year\"].min(),total[\"year\"].max())\n",
    "total = total.merge(literacy_data, on=[\"year\",\"country\"], how=\"outer\", sort=True)"
   ]
  },
  {
   "cell_type": "code",
   "execution_count": 13,
   "metadata": {},
   "outputs": [],
   "source": [
    "total = total.loc[~total.index.duplicated(),:].copy()"
   ]
  },
  {
   "cell_type": "code",
   "execution_count": 14,
   "metadata": {},
   "outputs": [],
   "source": [
    "columnNames = {\n",
    "    'NY.GDP.MKTP.CD_x':'GDP-currentDollar-outdated',\n",
    "    'NY.GDP.MKTP.CD':'GDP-currentDollar',\n",
    "    'NY.GDP.PCAP.CD':'GDP-PerCapita',\n",
    "    'NY.GDP.PCAP.CD_x':'GDP-PerCapita-outdated',\n",
    "    'NY.GDP.MKTP.KD':'GDP-In2015Dollars',\n",
    "    'NY.GDP.PCAP.KD':'GDP-perCapital2015Dollar',\n",
    "    'NY.GDP.PCAP.PP.KD':'GDP-perCapital2017Dollar',\n",
    "    'NY.GDP.MKTP.PP.CD':'GDP-InCurrentDollars',\n",
    "    'NY.GDP.MKTP.PP.KD':'GDP-In2017Dollars',\n",
    "    'NY.GDP.PCAP.PP.CD':'GDP-perCapital-current',\n",
    "    'NY.GDS.TOTL.ZS':'grossDomesticSavings',\n",
    "    'SP.DYN.IMRT.IN':'childMortalityRatePer1000',\n",
    "    'GC.TAX.TOTL.GD.ZS':'taxRevenueOfGDP',\n",
    "    'NY.ADJ.ICTR.GN.ZS':'adjustedSavingsGrossSaving',\n",
    "    'SE.XPD.TOTL.GD.ZS':'expenseOnEduOfGDP',\n",
    "    'BN.KLT.DINV.CD':'foreigDirectInvestment',\n",
    "    'BX.KLT.DINV.WD.GD.ZS':'foreigDirectInvestmentOfGDP',\n",
    "    'GC.NFN.TOTL.GD.ZS':'netInvestmentOfGDP',\n",
    "    \n",
    "    'SE.ADT.LITR.ZS': 'adult_llit-perc',\n",
    "    'UIS.XGDP.56.FSGOV':'tertEduOfGDP',\n",
    "    'UIS.XGDP.23.FSGOV':'seconEduOfGDP',\n",
    "    'UIS.XGDP.1.FSGOV':'primerEduOfGDP',\n",
    "\n",
    "    \"UIS.LPP.Ag15t99\":\t\"Adul_illit_pop_prec-female\",\n",
    "    \"UIS.LP.Ag15t99\":\t\"Adul_illit_pop_prec\",\n",
    "    \"UIS.LP.Ag15t99.F\":\t\"Adul_illit_pop_prec-female\",\n",
    "    \"UIS.LP.Ag15t99.M\":\t\"Adul_illit_pop_prec-male\",\n",
    "    \"UIS.LP.Ag65.F\":\t\"Elderly_illit_pop-female\",\n",
    "    \"UIS.LP.Ag65.M\":\t\"Elderly_illit_pop-male\",\n",
    "    \"UIS.ILLPOPF.AG25T64\":\t\"Illit_pop_workForce-female-percentage\",\n",
    "    \"UIS.ILLPOP.AG25T64\":\t\"Illit_pop_workForce\",\n",
    "    \"UIS.ILLPOP.AG25T64.F\":\t\"Illit_pop_workForce-female-number\",\n",
    "    \"UIS.ILLPOP.AG25T64.M\":\t\"Illit_pop_workForce-male\",\n",
    "    \"UIS.PLILLITP\":\t\"Partic_lit_prog-illit_pop\",\n",
    "    \"UIS.PLILLITP.F\":\t\"Partic_lit_prog_illit_pop-female\",\n",
    "    \"UIS.PLILLITP.M\":\t\"Partic_lit_prog_illit_pop-male\",\n",
    "    \"UIS.LPP.Ag15t24\":\t\"Youth_illit_pop_prec-female\",\n",
    "    \"UIS.LP.Ag15t24\":\t\"Youth_illit_pop\",\n",
    "    \"UIS.LP.Ag15t24.F\":\t\"Youth_illit_pop_female\",\n",
    "    \"UIS.LP.Ag15t24.M\":\t\"Youth_illit_pop_male\",\n",
    "    \n",
    "    \"UIS.XGDP.2.FSGOV\":\t\"Gov_expe_second_edu-of-GDP\",\n",
    "    \"UIS.XGDP.4.FSGOV\":\t\"Gov_expe_secodPost_edu-of-GDP\",\n",
    "    \"UIS.XGDP.0.FSGOV\":\t\"Gov_expe_prePrim_edu-of-GDP\",\n",
    "    \"UIS.XGDP.1.FSGOV\":\t\"Gov_expe_prim_edu-of-GDP\",\n",
    "\n",
    "    \"UIS.XGDP.2T4.V.FSGOV\": \"Gov_expe_secondTer-edu-ofGDP\",\n",
    "    \"UIS.XGDP.23.FSGOV\": \"Gov_expe_second_educ-perc-GDP\",\n",
    "    \"UIS.XGDP.56.FSGOV\": \"Gov_expe_tert_edu-perc-GDP\",\n",
    "\n",
    "    \"UIS.XGDP.3.FSGOV\": \"Gov_expe on upper secondary education as a percentage of GDP (%)\",\n",
    "    \"UIS.XUNIT.GDPCAP.2.FSGOV\":\t\"inti_gov_fund-lowSec-perc-perGDP\",\n",
    "    \"UIS.XUNIT.GDPCAP.02.FSGOV\": \"inti_gov_fund-prePrim-perc-perGDP\",\n",
    "    \"UIS.XUNIT.GDPCAP.1.FSGOV\":\t\"inti_gov_fund-Prim-perc-perGDP\",\n",
    "    \"UIS.XUNIT.GDPCAP.23.FSGOV\": \"inti_gov_fund-sec-perc-perGDP\",\n",
    "    \"UIS.XUNIT.GDPCAP.5T8.FSGOV\": \"inti_gov_fund-tert-perc-GDP-perCap\",\n",
    "    \"UIS.XUNIT.GDPCAP.3.FSGOV\": \"inti_gov_fund-uppSec-perc-GDP-perCap\",\n",
    "\n",
    "    \"UIS.XUNIT.GDPCAP.23.FSHH\": \"inti_house-fund_seco_stud-per-GDP\",\n",
    "    \"UIS.XUNIT.GDPCAP.1.FSHH\": \"inti_house-fund_prim_stud-per-GDP\",\n",
    "    \"UIS.XUNIT.GDPCAP.5T8.FSHH\": \"inti_house-fund_tert_stud-per-GDP\",\n",
    "\n",
    "}\n",
    "total = total.rename(columns=columnNames)"
   ]
  },
  {
   "cell_type": "code",
   "execution_count": 15,
   "metadata": {},
   "outputs": [],
   "source": [
    "total = total.replace(\"..\",np.nan)"
   ]
  },
  {
   "cell_type": "code",
   "execution_count": 16,
   "metadata": {},
   "outputs": [],
   "source": [
    "# total.to_csv(\"beforeProcess.csv\")"
   ]
  },
  {
   "cell_type": "code",
   "execution_count": 17,
   "metadata": {},
   "outputs": [],
   "source": [
    "# total.isna().sum().sort_values(ascending=False) / 16747\n",
    "# largeNan = total.isna().sum()[(total.isna().sum()/16747) > 0.9].keys()\n",
    "# doppredColumns = total.drop(columns=largeNan, axis=0)\n",
    "\n",
    "# doppredColumns.isna().sum().sort_values(ascending=False) / 16747"
   ]
  },
  {
   "cell_type": "code",
   "execution_count": 18,
   "metadata": {},
   "outputs": [],
   "source": [
    "total[\"noGDPDummy\"] = total[\"GDP-PerCapita\"].isna()\n",
    "total[\"noTaxDummy\"] = total[\"taxRevenueOfGDP\"].isna()"
   ]
  },
  {
   "cell_type": "code",
   "execution_count": 19,
   "metadata": {},
   "outputs": [],
   "source": [
    "total = total.drop(columns=[\"GDP-currentDollar-outdated\", \"GDP-In2015Dollars\",\"GDP-InCurrentDollars\",\"GDP-In2017Dollars\"], axis=0)"
   ]
  },
  {
   "cell_type": "code",
   "execution_count": 20,
   "metadata": {},
   "outputs": [],
   "source": [
    "total = total.drop(columns=[\"GDP-perCapital2015Dollar\",\"GDP-perCapital-current\",\"GDP-perCapital2017Dollar\"], axis=0)"
   ]
  },
  {
   "cell_type": "code",
   "execution_count": 21,
   "metadata": {},
   "outputs": [],
   "source": [
    "dummyVariables = total[[\"noTaxDummy\",\"noGDPDummy\",\"country\",\"year\"]]\n",
    "dummyVariables.to_csv(\"dummy_data.csv\", index=False)"
   ]
  },
  {
   "cell_type": "code",
   "execution_count": 22,
   "metadata": {},
   "outputs": [],
   "source": [
    "numData = total.drop(columns=[\"noTaxDummy\",\"noGDPDummy\"], axis=0)"
   ]
  },
  {
   "cell_type": "code",
   "execution_count": 23,
   "metadata": {},
   "outputs": [],
   "source": [
    "for column in numData.columns:\n",
    "    if column != \"country\":\n",
    "        numData[column] = pd.to_numeric(numData[column])\n",
    "        if column != 'year':\n",
    "            numData[column+'interPolation'] = numData.groupby('country').apply(lambda group: group.interpolate())[column]"
   ]
  },
  {
   "cell_type": "code",
   "execution_count": 24,
   "metadata": {},
   "outputs": [],
   "source": [
    "def drop_non_year_column(titles):\n",
    "    # Get Years in dataset\n",
    "    drops = []\n",
    "    for title in titles:\n",
    "        # if not title.endswith(\"interPolation\") and not column.endswith('Dummy') : drops.append(title)\n",
    "        if not title.endswith(\"interPolation\") and not title.endswith('year') and not title.endswith('country') : drops.append(title)\n",
    "    return drops"
   ]
  },
  {
   "cell_type": "code",
   "execution_count": 25,
   "metadata": {},
   "outputs": [],
   "source": [
    "numData = numData.drop(columns=drop_non_year_column(numData.columns), axis=0)"
   ]
  },
  {
   "cell_type": "code",
   "execution_count": 26,
   "metadata": {},
   "outputs": [],
   "source": [
    "dropColls = [\"Illit_pop_workForceinterPolation\",\"Illit_pop_workForce-female-numberinterPolation\",\"Illit_pop_workForce-maleinterPolation\",\"Illit_pop_workForce-female-percentageinterPolation\",\"UIS.LP.AG15T24interPolation\",\"UIS.LP.AG15T24.FinterPolation\",\"UIS.LP.AG15T24.MinterPolation\",\"UIS.LP.AG15T99interPolation\",\"UIS.LP.AG15T99.FinterPolation\",\"UIS.LP.AG15T99.MinterPolation\",\"UIS.LP.AG65interPolation\",\"UIS.LP.AG65.FinterPolation\",\"UIS.LP.AG65.MinterPolation\",\"UIS.LPP.AG15T24interPolation\",\"UIS.LPP.AG15T99interPolation\",\"UIS.LPP.AG65interPolation\",\"Partic_lit_prog-illit_popinterPolation\",\"Partic_lit_prog_illit_pop-femaleinterPolation\",\"Partic_lit_prog_illit_pop-maleinterPolation\"]"
   ]
  },
  {
   "cell_type": "code",
   "execution_count": 27,
   "metadata": {},
   "outputs": [],
   "source": [
    "numData = numData.drop(columns=dropColls, axis=0)\n",
    "numData = numData.dropna(thresh=5)"
   ]
  },
  {
   "cell_type": "code",
   "execution_count": 33,
   "metadata": {},
   "outputs": [],
   "source": [
    "for column in numData.columns:\n",
    "    if not column.endswith('Dummy') and not column.endswith('year') and not column.endswith('country') and not column.endswith('growth') and not column.endswith('PercentageGrowth'):\n",
    "        numData[column+'-growth'] = numData[column].rolling(window=2).apply(lambda x: x.iloc[-1] - x.iloc[0])\n",
    "        numData[column+'-3y-growth'] = numData[column].rolling(window=3).apply(lambda x: x.iloc[-1] - x.iloc[0])\n",
    "        numData[column+'-5y-growth'] = numData[column].rolling(window=5).apply(lambda x: x.iloc[-1] - x.iloc[0])\n",
    "        numData[column+'-PercentageGrowth'] = numData[column].rolling(window=2).apply(lambda x: ((x.iloc[-1] - x.iloc[0])/x.iloc[0]))"
   ]
  },
  {
   "cell_type": "code",
   "execution_count": 34,
   "metadata": {},
   "outputs": [],
   "source": [
    "numData.to_csv(\"numData.csv\", index=False)\n",
    "total.to_csv(\"data.csv\", index=False)"
   ]
  }
 ],
 "metadata": {
  "interpreter": {
   "hash": "6744874b6b7d4c11632f5c57904f17b16032f5dfc2e35ec68085b9c698263a2f"
  },
  "kernelspec": {
   "display_name": "Python 3.8.12 ('thesisProject')",
   "language": "python",
   "name": "python3"
  },
  "language_info": {
   "codemirror_mode": {
    "name": "ipython",
    "version": 3
   },
   "file_extension": ".py",
   "mimetype": "text/x-python",
   "name": "python",
   "nbconvert_exporter": "python",
   "pygments_lexer": "ipython3",
   "version": "3.8.12"
  },
  "orig_nbformat": 4
 },
 "nbformat": 4,
 "nbformat_minor": 2
}
