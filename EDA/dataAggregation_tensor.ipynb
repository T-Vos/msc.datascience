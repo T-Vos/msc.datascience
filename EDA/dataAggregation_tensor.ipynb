{
 "cells": [
  {
   "cell_type": "code",
   "execution_count": 1,
   "metadata": {},
   "outputs": [],
   "source": [
    "import pandas as pd\n",
    "import numpy as np"
   ]
  },
  {
   "cell_type": "code",
   "execution_count": 2,
   "metadata": {},
   "outputs": [],
   "source": [
    "def cut_year_title_down(title):\n",
    "    # world bank columns end with [YRxxxx] EG: 1970 [YR1970]\n",
    "    # This can be cut a way easily\n",
    "    if title[0].isdigit() : title = title[0:4]\n",
    "    return title"
   ]
  },
  {
   "cell_type": "code",
   "execution_count": 3,
   "metadata": {},
   "outputs": [],
   "source": [
    "def drop_non_year_column(titles):\n",
    "    # Get Years in dataset\n",
    "    drops = []\n",
    "    for title in titles:\n",
    "        if not title.isdigit() : drops.append(title)\n",
    "    return drops"
   ]
  },
  {
   "cell_type": "code",
   "execution_count": 4,
   "metadata": {},
   "outputs": [],
   "source": [
    "educationData = pd.read_csv('../Data/WB_Edu_simple/646c5220-17f9-41f4-b39f-0f8c34130df6_Data.csv')\n",
    "educationGDPData = pd.read_csv('../Data/Education_WB/edData.csv')\n",
    "gdpPerCap = pd.read_csv('../Data/GDP2_WB/ad361792-9e4a-4b48-adb6-6422cf32b3fe_Data.csv')\n",
    "tradeData = pd.read_stata('../Data/PennTrade/pwt100-trade-detail.dta')\n",
    "tradeOfGDP = pd.read_csv('../Data/WB_trade/656d635f-d1ec-4345-a858-4784ff01e3f1_Data.csv')"
   ]
  },
  {
   "cell_type": "code",
   "execution_count": 5,
   "metadata": {},
   "outputs": [],
   "source": [
    "gdpPerCap.columns = [cut_year_title_down(x) for x in gdpPerCap.columns]\n",
    "educationData.columns = [cut_year_title_down(x) for x in educationData.columns]\n",
    "educationGDPData.columns = [cut_year_title_down(x) for x in educationData.columns]\n",
    "tradeOfGDP.columns = [cut_year_title_down(x) for x in tradeOfGDP.columns]"
   ]
  },
  {
   "cell_type": "code",
   "execution_count": 6,
   "metadata": {},
   "outputs": [],
   "source": [
    "GDPPERCAPITACURRENT = 'NY.GDP.PCAP.CD'\n",
    "GOVEXPENDUREONEDUPERCENTOFGDP = 'SE.XPD.TOTL.GD.ZS'\n",
    "GOVEXPENDUREONTERTEDUPERCENTOFGDP = 'UIS.XGDP.56.FSGOV'\n",
    "GOVEXPENDUREONSECOEDUPERCENTOFGDP = 'UIS.XGDP.23.FSGOV'\n",
    "GOVEXPENDUREONPRIMEDUPERCENTOFGDP = 'UIS.XGDP.1.FSGOV'\n",
    "TRADEPRECENTAGEOFGDP = 'TG.VAL.TOTL.GD.ZS'\n",
    "AdultIlliterate = \"SE.ADT.LITR.ZS\""
   ]
  },
  {
   "cell_type": "code",
   "execution_count": 7,
   "metadata": {},
   "outputs": [],
   "source": [
    "gdp_values = gdpPerCap[gdpPerCap[\"Series Code\"] == GDPPERCAPITACURRENT]\n",
    "AdultLliterate_df = educationData[educationData[\"Series Code\"] == AdultIlliterate]\n",
    "ExpenseEducationAsPercentageOfGDP = educationGDPData[educationGDPData[\"Series Code\"] == GOVEXPENDUREONEDUPERCENTOFGDP]\n",
    "ExpenseTertiarEducationAsPercentageOfGDP = educationGDPData[educationGDPData[\"Series Code\"] == GOVEXPENDUREONTERTEDUPERCENTOFGDP]\n",
    "ExpenseSecondaryEducationAsPercentageOfGDP = educationGDPData[educationGDPData[\"Series Code\"] == GOVEXPENDUREONSECOEDUPERCENTOFGDP]\n",
    "ExpensePrimaryEducationAsPercentageOfGDP = educationGDPData[educationGDPData[\"Series Code\"] == GOVEXPENDUREONPRIMEDUPERCENTOFGDP]\n",
    "TradePercOfGDPData = tradeOfGDP[tradeOfGDP[\"Series Code\"] == TRADEPRECENTAGEOFGDP]"
   ]
  },
  {
   "cell_type": "code",
   "execution_count": 8,
   "metadata": {},
   "outputs": [],
   "source": [
    "countryCodes = gdpPerCap['Country Code'].unique()\n",
    "years = gdpPerCap.columns.drop(labels=drop_non_year_column(gdpPerCap.columns))"
   ]
  },
  {
   "cell_type": "code",
   "execution_count": 9,
   "metadata": {},
   "outputs": [],
   "source": [
    "def dataMatrixMaker():\n",
    "    countryCodes = gdpPerCap['Country Code'].unique()\n",
    "    years = gdpPerCap.columns.drop(labels=drop_non_year_column(gdpPerCap.columns))\n",
    "    return np.zeros((len(years),len(countryCodes)))"
   ]
  },
  {
   "cell_type": "markdown",
   "metadata": {},
   "source": [
    "### GDP"
   ]
  },
  {
   "cell_type": "code",
   "execution_count": 10,
   "metadata": {},
   "outputs": [
    {
     "name": "stderr",
     "output_type": "stream",
     "text": [
      "<ipython-input-10-bebc1f397776>:5: UserWarning: Boolean Series key will be reindexed to match DataFrame index.\n",
      "  gdp =  gdp_values[(gdpPerCap[\"Country Code\"] == countryCodes[country_index])][years[year_index]].values[0]\n"
     ]
    }
   ],
   "source": [
    "datasetGDP = dataMatrixMaker()\n",
    "\n",
    "for year_index, year in enumerate(datasetGDP):\n",
    "    for country_index, country in enumerate(year):\n",
    "        gdp =  gdp_values[(gdpPerCap[\"Country Code\"] == countryCodes[country_index])][years[year_index]].values[0]\n",
    "        if not gdp[0].isdigit():\n",
    "            continue\n",
    "        datasetGDP[year_index,country_index] = gdp\n",
    "dataset_tensor = np.array([datasetGDP, datasetGDP == 0])"
   ]
  },
  {
   "cell_type": "markdown",
   "metadata": {},
   "source": [
    "#### GDP filling the gaps"
   ]
  },
  {
   "cell_type": "code",
   "execution_count": 11,
   "metadata": {},
   "outputs": [
    {
     "data": {
      "text/html": [
       "<div>\n",
       "<style scoped>\n",
       "    .dataframe tbody tr th:only-of-type {\n",
       "        vertical-align: middle;\n",
       "    }\n",
       "\n",
       "    .dataframe tbody tr th {\n",
       "        vertical-align: top;\n",
       "    }\n",
       "\n",
       "    .dataframe thead th {\n",
       "        text-align: right;\n",
       "    }\n",
       "</style>\n",
       "<table border=\"1\" class=\"dataframe\">\n",
       "  <thead>\n",
       "    <tr style=\"text-align: right;\">\n",
       "      <th></th>\n",
       "      <th>Series Name</th>\n",
       "      <th>Series Code</th>\n",
       "      <th>Country Name</th>\n",
       "      <th>Country Code</th>\n",
       "      <th>1960</th>\n",
       "      <th>1961</th>\n",
       "      <th>1962</th>\n",
       "      <th>1963</th>\n",
       "      <th>1964</th>\n",
       "      <th>1965</th>\n",
       "      <th>...</th>\n",
       "      <th>2012</th>\n",
       "      <th>2013</th>\n",
       "      <th>2014</th>\n",
       "      <th>2015</th>\n",
       "      <th>2016</th>\n",
       "      <th>2017</th>\n",
       "      <th>2018</th>\n",
       "      <th>2019</th>\n",
       "      <th>2020</th>\n",
       "      <th>2021</th>\n",
       "    </tr>\n",
       "  </thead>\n",
       "  <tbody>\n",
       "    <tr>\n",
       "      <th>5852</th>\n",
       "      <td>GDP per capita (current US$)</td>\n",
       "      <td>NY.GDP.PCAP.CD</td>\n",
       "      <td>Afghanistan</td>\n",
       "      <td>AFG</td>\n",
       "      <td>59.7732337</td>\n",
       "      <td>59.86089999</td>\n",
       "      <td>58.4580087</td>\n",
       "      <td>78.70642878</td>\n",
       "      <td>82.09530653</td>\n",
       "      <td>101.1083252</td>\n",
       "      <td>...</td>\n",
       "      <td>638.8458516</td>\n",
       "      <td>624.3154545</td>\n",
       "      <td>614.2233424</td>\n",
       "      <td>556.0072209</td>\n",
       "      <td>512.0127781</td>\n",
       "      <td>516.6798622</td>\n",
       "      <td>485.6684187</td>\n",
       "      <td>494.1793499</td>\n",
       "      <td>516.7478708</td>\n",
       "      <td>..</td>\n",
       "    </tr>\n",
       "  </tbody>\n",
       "</table>\n",
       "<p>1 rows × 66 columns</p>\n",
       "</div>"
      ],
      "text/plain": [
       "                       Series Name     Series Code Country Name Country Code  \\\n",
       "5852  GDP per capita (current US$)  NY.GDP.PCAP.CD  Afghanistan          AFG   \n",
       "\n",
       "            1960         1961        1962         1963         1964  \\\n",
       "5852  59.7732337  59.86089999  58.4580087  78.70642878  82.09530653   \n",
       "\n",
       "             1965  ...         2012         2013         2014         2015  \\\n",
       "5852  101.1083252  ...  638.8458516  624.3154545  614.2233424  556.0072209   \n",
       "\n",
       "             2016         2017         2018         2019         2020 2021  \n",
       "5852  512.0127781  516.6798622  485.6684187  494.1793499  516.7478708   ..  \n",
       "\n",
       "[1 rows x 66 columns]"
      ]
     },
     "execution_count": 11,
     "metadata": {},
     "output_type": "execute_result"
    }
   ],
   "source": [
    "gdp_values.head(1)"
   ]
  },
  {
   "cell_type": "code",
   "execution_count": 12,
   "metadata": {},
   "outputs": [
    {
     "data": {
      "text/plain": [
       "array([ 59.7732337 ,  59.86089999,  58.4580087 ,  78.70642878,\n",
       "        82.09530653, 101.1083252 , 137.594298  , 160.8984342 ,\n",
       "       129.108311  , 129.3297604 , 156.5187713 , 159.567509  ,\n",
       "       135.317228  , 143.1446495 , 173.6536247 , 186.5108383 ,\n",
       "       197.4455076 , 224.2250016 , 247.3540878 , 275.7381154 ,\n",
       "       272.6555102 , 264.1111971 ,   0.        ,   0.        ,\n",
       "         0.        ,   0.        ,   0.        ,   0.        ,\n",
       "         0.        ,   0.        ,   0.        ,   0.        ,\n",
       "         0.        ,   0.        ,   0.        ,   0.        ,\n",
       "         0.        ,   0.        ,   0.        ,   0.        ,\n",
       "         0.        ,   0.        , 179.4265792 , 190.6838143 ,\n",
       "       211.3820742 , 242.0313132 , 263.7336019 , 359.6931579 ,\n",
       "       364.663542  , 437.2687402 , 543.3065262 , 591.1900302 ,\n",
       "       638.8458516 , 624.3154545 , 614.2233424 , 556.0072209 ,\n",
       "       512.0127781 , 516.6798622 , 485.6684187 , 494.1793499 ,\n",
       "       516.7478708 ,   0.        ])"
      ]
     },
     "execution_count": 12,
     "metadata": {},
     "output_type": "execute_result"
    }
   ],
   "source": [
    "dataset_tensor[0,:,0]"
   ]
  },
  {
   "cell_type": "markdown",
   "metadata": {},
   "source": [
    "### Trade"
   ]
  },
  {
   "cell_type": "code",
   "execution_count": 13,
   "metadata": {},
   "outputs": [],
   "source": [
    "tradeOfGDPData = dataMatrixMaker()\n",
    "\n",
    "transpose = TradePercOfGDPData.T\n",
    "\n",
    "for country in transpose:\n",
    "    for year in years:\n",
    "        if str(year) in transpose[country].keys():\n",
    "            countryIndex = np.where(countryCodes == transpose[country][\"Country Code\"])[0]\n",
    "            if len(countryIndex) != 0 and transpose[country][year] != '..':\n",
    "                tradeOfGDPData[int(year) - 1960, countryIndex[0]] = transpose[country][year]\n",
    "\n",
    "dataset_tensor = np.append(dataset_tensor,[tradeOfGDPData],axis=0)"
   ]
  },
  {
   "cell_type": "markdown",
   "metadata": {},
   "source": [
    "### Education expense as % of GDP"
   ]
  },
  {
   "cell_type": "code",
   "execution_count": 14,
   "metadata": {},
   "outputs": [],
   "source": [
    "datasetEduOfGDP = dataMatrixMaker()\n",
    "\n",
    "transpose = ExpensePrimaryEducationAsPercentageOfGDP.T\n",
    "\n",
    "for country in transpose:\n",
    "    for year in years:\n",
    "        if str(year) in transpose[country].keys():\n",
    "            countryIndex = np.where(countryCodes == transpose[country][\"Country Code\"])[0]\n",
    "            if len(countryIndex) != 0 and transpose[country][year] != '..':\n",
    "                datasetEduOfGDP[int(year) - 1960, countryIndex[0]] = transpose[country][year]\n",
    "\n",
    "dataset_tensor = np.append(dataset_tensor,[datasetEduOfGDP],axis=0)"
   ]
  },
  {
   "cell_type": "code",
   "execution_count": 15,
   "metadata": {},
   "outputs": [],
   "source": [
    "datasetEduOfGDP = dataMatrixMaker()\n",
    "\n",
    "transpose = ExpenseSecondaryEducationAsPercentageOfGDP.T\n",
    "\n",
    "for country in transpose:\n",
    "    for year in years:\n",
    "        if str(year) in transpose[country].keys():\n",
    "            countryIndex = np.where(countryCodes == transpose[country][\"Country Code\"])[0]\n",
    "            if len(countryIndex) != 0 and transpose[country][year] != '..':\n",
    "                datasetEduOfGDP[int(year) - 1960, countryIndex[0]] = transpose[country][year]\n",
    "\n",
    "dataset_tensor = np.append(dataset_tensor,[datasetEduOfGDP],axis=0)"
   ]
  },
  {
   "cell_type": "code",
   "execution_count": 16,
   "metadata": {},
   "outputs": [],
   "source": [
    "datasetEduOfGDP = dataMatrixMaker()\n",
    "\n",
    "transpose = ExpenseTertiarEducationAsPercentageOfGDP.T\n",
    "\n",
    "for country in transpose:\n",
    "    for year in years:\n",
    "        if str(year) in transpose[country].keys():\n",
    "            countryIndex = np.where(countryCodes == transpose[country][\"Country Code\"])[0]\n",
    "            if len(countryIndex) != 0 and transpose[country][year] != '..':\n",
    "                datasetEduOfGDP[int(year) - 1960, countryIndex[0]] = transpose[country][year]\n",
    "\n",
    "dataset_tensor = np.append(dataset_tensor,[datasetEduOfGDP],axis=0)"
   ]
  },
  {
   "cell_type": "code",
   "execution_count": 17,
   "metadata": {},
   "outputs": [],
   "source": [
    "datasetEduOfGDP = dataMatrixMaker()\n",
    "\n",
    "transpose = ExpenseEducationAsPercentageOfGDP.T\n",
    "\n",
    "for country in transpose:\n",
    "    for year in years:\n",
    "        if str(year) in transpose[country].keys():\n",
    "            countryIndex = np.where(countryCodes == transpose[country][\"Country Code\"])[0]\n",
    "            if len(countryIndex) != 0 and transpose[country][year] != '..':\n",
    "                datasetEduOfGDP[int(year) - 1960, countryIndex[0]] = transpose[country][year]\n",
    "\n",
    "dataset_tensor = np.append(dataset_tensor,[datasetEduOfGDP],axis=0)"
   ]
  },
  {
   "cell_type": "markdown",
   "metadata": {},
   "source": [
    "### Literarcy"
   ]
  },
  {
   "cell_type": "code",
   "execution_count": 18,
   "metadata": {},
   "outputs": [],
   "source": [
    "datasetEdu = dataMatrixMaker()\n",
    "transpose = AdultLliterate_df.T\n",
    "\n",
    "for country in transpose:\n",
    "    for year in years:\n",
    "        if str(year) in transpose[country].keys():\n",
    "            countryIndex = np.where(countryCodes == transpose[country][\"Country Code\"])[0]\n",
    "            if len(countryIndex) != 0 and transpose[country][year] != '..':\n",
    "                datasetEdu[int(year) - 1960, countryIndex[0]] = transpose[country][year]\n",
    "\n",
    "dataset_tensor = np.append(dataset_tensor,[datasetEdu],axis=0)"
   ]
  },
  {
   "cell_type": "markdown",
   "metadata": {},
   "source": [
    "### Tensor Overview"
   ]
  },
  {
   "cell_type": "code",
   "execution_count": 19,
   "metadata": {},
   "outputs": [
    {
     "ename": "IndexError",
     "evalue": "index 8 is out of bounds for axis 0 with size 8",
     "output_type": "error",
     "traceback": [
      "\u001b[1;31m---------------------------------------------------------------------------\u001b[0m",
      "\u001b[1;31mIndexError\u001b[0m                                Traceback (most recent call last)",
      "\u001b[1;32m<ipython-input-19-93a4869316c5>\u001b[0m in \u001b[0;36m<module>\u001b[1;34m\u001b[0m\n\u001b[0;32m      1\u001b[0m \u001b[1;32mimport\u001b[0m \u001b[0mmatplotlib\u001b[0m\u001b[1;33m.\u001b[0m\u001b[0mpyplot\u001b[0m \u001b[1;32mas\u001b[0m \u001b[0mplt\u001b[0m\u001b[1;33m\u001b[0m\u001b[1;33m\u001b[0m\u001b[0m\n\u001b[0;32m      2\u001b[0m \u001b[1;33m\u001b[0m\u001b[0m\n\u001b[1;32m----> 3\u001b[1;33m \u001b[0mplt\u001b[0m\u001b[1;33m.\u001b[0m\u001b[0mscatter\u001b[0m\u001b[1;33m(\u001b[0m\u001b[0mdataset_tensor\u001b[0m\u001b[1;33m[\u001b[0m\u001b[1;36m1\u001b[0m\u001b[1;33m,\u001b[0m\u001b[1;33m:\u001b[0m\u001b[1;33m,\u001b[0m\u001b[1;33m:\u001b[0m\u001b[1;33m]\u001b[0m\u001b[1;33m,\u001b[0m\u001b[0mdataset_tensor\u001b[0m\u001b[1;33m[\u001b[0m\u001b[1;36m8\u001b[0m\u001b[1;33m,\u001b[0m\u001b[1;33m:\u001b[0m\u001b[1;33m,\u001b[0m\u001b[1;33m:\u001b[0m\u001b[1;33m]\u001b[0m\u001b[1;33m)\u001b[0m\u001b[1;33m\u001b[0m\u001b[1;33m\u001b[0m\u001b[0m\n\u001b[0m\u001b[0;32m      4\u001b[0m \u001b[0mplt\u001b[0m\u001b[1;33m.\u001b[0m\u001b[0mshow\u001b[0m\u001b[1;33m(\u001b[0m\u001b[1;33m)\u001b[0m\u001b[1;33m\u001b[0m\u001b[1;33m\u001b[0m\u001b[0m\n",
      "\u001b[1;31mIndexError\u001b[0m: index 8 is out of bounds for axis 0 with size 8"
     ]
    }
   ],
   "source": [
    "# import matplotlib.pyplot as plt\n",
    "\n",
    "# plt.scatter(dataset_tensor[1,:,:],dataset_tensor[8,:,:])\n",
    "# plt.show()"
   ]
  },
  {
   "cell_type": "code",
   "execution_count": 20,
   "metadata": {},
   "outputs": [
    {
     "data": {
      "text/plain": [
       "44.33398"
      ]
     },
     "execution_count": 20,
     "metadata": {},
     "output_type": "execute_result"
    }
   ],
   "source": [
    "dataset_tensor[6,:,:].max()"
   ]
  },
  {
   "cell_type": "code",
   "execution_count": 24,
   "metadata": {},
   "outputs": [
    {
     "data": {
      "text/plain": [
       "array([2, 2, 2, 2, 2, 8, 8, 8, 8, 8, 1, 1, 1, 1, 1, 1, 1, 1, 1, 1, 4, 4,\n",
       "       4, 4, 4, 4, 4, 9, 9, 9, 3, 3, 3, 3, 3, 6, 6, 6, 6, 6, 6, 0, 0, 0,\n",
       "       0, 0, 0, 0, 0, 0, 0, 7, 7, 7, 7, 7, 7, 7, 7, 7, 7, 5])"
      ]
     },
     "execution_count": 24,
     "metadata": {},
     "output_type": "execute_result"
    }
   ],
   "source": [
    "from sklearn.cluster import KMeans\n",
    "\n",
    "kmeans = KMeans(n_clusters=10, random_state=0)\n",
    "label = kmeans.fit_predict(dataset_tensor[1])\n",
    "\n",
    "label\n",
    "\n",
    "# import matplotlib.pyplot as plt\n",
    "\n",
    "# fig = plt.figure(figsize=(8, 3))\n",
    "# fig.subplots_adjust(left=0.02, right=0.98, bottom=0.05, top=0.9)\n",
    "# colors = [\"#4EACC5\", \"#FF9C34\", \"#4E9A06\"]"
   ]
  },
  {
   "cell_type": "code",
   "execution_count": 28,
   "metadata": {},
   "outputs": [
    {
     "data": {
      "image/png": "[encoded data removed]",
      "text/plain": [
       "<Figure size 432x288 with 1 Axes>"
      ]
     },
     "metadata": {
      "needs_background": "light"
     },
     "output_type": "display_data"
    }
   ],
   "source": [
    "for"
   ]
  }
 ],
 "metadata": {
  "interpreter": {
   "hash": "6744874b6b7d4c11632f5c57904f17b16032f5dfc2e35ec68085b9c698263a2f"
  },
  "kernelspec": {
   "display_name": "Python 3.8.12 ('thesisProject')",
   "language": "python",
   "name": "python3"
  },
  "language_info": {
   "codemirror_mode": {
    "name": "ipython",
    "version": 3
   },
   "file_extension": ".py",
   "mimetype": "text/x-python",
   "name": "python",
   "nbconvert_exporter": "python",
   "pygments_lexer": "ipython3",
   "version": "3.8.12"
  },
  "orig_nbformat": 4
 },
 "nbformat": 4,
 "nbformat_minor": 2
}
